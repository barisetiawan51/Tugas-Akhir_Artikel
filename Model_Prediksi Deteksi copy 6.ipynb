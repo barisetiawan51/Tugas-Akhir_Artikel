{
 "cells": [
  {
   "cell_type": "markdown",
   "metadata": {
    "id": "nXKQUoSbfnuz"
   },
   "source": [
    "# Import Library"
   ]
  },
  {
   "cell_type": "code",
   "execution_count": 7,
   "metadata": {
    "id": "uOdPniHYfnvC"
   },
   "outputs": [],
   "source": [
    "# Importing libraries\n",
    "import pandas as pd\n",
    "import numpy as np\n",
    "import matplotlib.pyplot as plt\n",
    "import seaborn as sns\n",
    "\n",
    "import xgboost as xgb\n",
    "\n",
    "from sklearn.preprocessing import StandardScaler\n",
    "from sklearn.model_selection import train_test_split, GridSearchCV\n",
    "from sklearn.metrics import accuracy_score, confusion_matrix, classification_report\n"
   ]
  },
  {
   "cell_type": "markdown",
   "metadata": {
    "id": "ca22WoS2fnvJ"
   },
   "source": [
    "# Load Data"
   ]
  },
  {
   "cell_type": "code",
   "execution_count": 8,
   "metadata": {
    "id": "zG0wYOfOfnvL",
    "outputId": "2a3af269-723d-4425-9a8f-9395c51f46ee"
   },
   "outputs": [
    {
     "data": {
      "text/html": [
       "<div>\n",
       "<style scoped>\n",
       "    .dataframe tbody tr th:only-of-type {\n",
       "        vertical-align: middle;\n",
       "    }\n",
       "\n",
       "    .dataframe tbody tr th {\n",
       "        vertical-align: top;\n",
       "    }\n",
       "\n",
       "    .dataframe thead th {\n",
       "        text-align: right;\n",
       "    }\n",
       "</style>\n",
       "<table border=\"1\" class=\"dataframe\">\n",
       "  <thead>\n",
       "    <tr style=\"text-align: right;\">\n",
       "      <th></th>\n",
       "      <th>id</th>\n",
       "      <th>age</th>\n",
       "      <th>gender</th>\n",
       "      <th>height</th>\n",
       "      <th>weight</th>\n",
       "      <th>ap_hi</th>\n",
       "      <th>ap_lo</th>\n",
       "      <th>cholesterol</th>\n",
       "      <th>gluc</th>\n",
       "      <th>smoke</th>\n",
       "      <th>alco</th>\n",
       "      <th>active</th>\n",
       "      <th>cardio</th>\n",
       "    </tr>\n",
       "  </thead>\n",
       "  <tbody>\n",
       "    <tr>\n",
       "      <th>0</th>\n",
       "      <td>0</td>\n",
       "      <td>18393</td>\n",
       "      <td>2</td>\n",
       "      <td>168</td>\n",
       "      <td>62.0</td>\n",
       "      <td>110</td>\n",
       "      <td>80</td>\n",
       "      <td>1</td>\n",
       "      <td>1</td>\n",
       "      <td>0</td>\n",
       "      <td>0</td>\n",
       "      <td>1</td>\n",
       "      <td>0</td>\n",
       "    </tr>\n",
       "    <tr>\n",
       "      <th>1</th>\n",
       "      <td>1</td>\n",
       "      <td>20228</td>\n",
       "      <td>1</td>\n",
       "      <td>156</td>\n",
       "      <td>85.0</td>\n",
       "      <td>140</td>\n",
       "      <td>90</td>\n",
       "      <td>3</td>\n",
       "      <td>1</td>\n",
       "      <td>0</td>\n",
       "      <td>0</td>\n",
       "      <td>1</td>\n",
       "      <td>1</td>\n",
       "    </tr>\n",
       "    <tr>\n",
       "      <th>2</th>\n",
       "      <td>2</td>\n",
       "      <td>18857</td>\n",
       "      <td>1</td>\n",
       "      <td>165</td>\n",
       "      <td>64.0</td>\n",
       "      <td>130</td>\n",
       "      <td>70</td>\n",
       "      <td>3</td>\n",
       "      <td>1</td>\n",
       "      <td>0</td>\n",
       "      <td>0</td>\n",
       "      <td>0</td>\n",
       "      <td>1</td>\n",
       "    </tr>\n",
       "    <tr>\n",
       "      <th>3</th>\n",
       "      <td>3</td>\n",
       "      <td>17623</td>\n",
       "      <td>2</td>\n",
       "      <td>169</td>\n",
       "      <td>82.0</td>\n",
       "      <td>150</td>\n",
       "      <td>100</td>\n",
       "      <td>1</td>\n",
       "      <td>1</td>\n",
       "      <td>0</td>\n",
       "      <td>0</td>\n",
       "      <td>1</td>\n",
       "      <td>1</td>\n",
       "    </tr>\n",
       "    <tr>\n",
       "      <th>4</th>\n",
       "      <td>4</td>\n",
       "      <td>17474</td>\n",
       "      <td>1</td>\n",
       "      <td>156</td>\n",
       "      <td>56.0</td>\n",
       "      <td>100</td>\n",
       "      <td>60</td>\n",
       "      <td>1</td>\n",
       "      <td>1</td>\n",
       "      <td>0</td>\n",
       "      <td>0</td>\n",
       "      <td>0</td>\n",
       "      <td>0</td>\n",
       "    </tr>\n",
       "    <tr>\n",
       "      <th>5</th>\n",
       "      <td>8</td>\n",
       "      <td>21914</td>\n",
       "      <td>1</td>\n",
       "      <td>151</td>\n",
       "      <td>67.0</td>\n",
       "      <td>120</td>\n",
       "      <td>80</td>\n",
       "      <td>2</td>\n",
       "      <td>2</td>\n",
       "      <td>0</td>\n",
       "      <td>0</td>\n",
       "      <td>0</td>\n",
       "      <td>0</td>\n",
       "    </tr>\n",
       "    <tr>\n",
       "      <th>6</th>\n",
       "      <td>9</td>\n",
       "      <td>22113</td>\n",
       "      <td>1</td>\n",
       "      <td>157</td>\n",
       "      <td>93.0</td>\n",
       "      <td>130</td>\n",
       "      <td>80</td>\n",
       "      <td>3</td>\n",
       "      <td>1</td>\n",
       "      <td>0</td>\n",
       "      <td>0</td>\n",
       "      <td>1</td>\n",
       "      <td>0</td>\n",
       "    </tr>\n",
       "    <tr>\n",
       "      <th>7</th>\n",
       "      <td>12</td>\n",
       "      <td>22584</td>\n",
       "      <td>2</td>\n",
       "      <td>178</td>\n",
       "      <td>95.0</td>\n",
       "      <td>130</td>\n",
       "      <td>90</td>\n",
       "      <td>3</td>\n",
       "      <td>3</td>\n",
       "      <td>0</td>\n",
       "      <td>0</td>\n",
       "      <td>1</td>\n",
       "      <td>1</td>\n",
       "    </tr>\n",
       "    <tr>\n",
       "      <th>8</th>\n",
       "      <td>13</td>\n",
       "      <td>17668</td>\n",
       "      <td>1</td>\n",
       "      <td>158</td>\n",
       "      <td>71.0</td>\n",
       "      <td>110</td>\n",
       "      <td>70</td>\n",
       "      <td>1</td>\n",
       "      <td>1</td>\n",
       "      <td>0</td>\n",
       "      <td>0</td>\n",
       "      <td>1</td>\n",
       "      <td>0</td>\n",
       "    </tr>\n",
       "    <tr>\n",
       "      <th>9</th>\n",
       "      <td>14</td>\n",
       "      <td>19834</td>\n",
       "      <td>1</td>\n",
       "      <td>164</td>\n",
       "      <td>68.0</td>\n",
       "      <td>110</td>\n",
       "      <td>60</td>\n",
       "      <td>1</td>\n",
       "      <td>1</td>\n",
       "      <td>0</td>\n",
       "      <td>0</td>\n",
       "      <td>0</td>\n",
       "      <td>0</td>\n",
       "    </tr>\n",
       "  </tbody>\n",
       "</table>\n",
       "</div>"
      ],
      "text/plain": [
       "   id    age  gender  height  weight  ap_hi  ap_lo  cholesterol  gluc  smoke  \\\n",
       "0   0  18393       2     168    62.0    110     80            1     1      0   \n",
       "1   1  20228       1     156    85.0    140     90            3     1      0   \n",
       "2   2  18857       1     165    64.0    130     70            3     1      0   \n",
       "3   3  17623       2     169    82.0    150    100            1     1      0   \n",
       "4   4  17474       1     156    56.0    100     60            1     1      0   \n",
       "5   8  21914       1     151    67.0    120     80            2     2      0   \n",
       "6   9  22113       1     157    93.0    130     80            3     1      0   \n",
       "7  12  22584       2     178    95.0    130     90            3     3      0   \n",
       "8  13  17668       1     158    71.0    110     70            1     1      0   \n",
       "9  14  19834       1     164    68.0    110     60            1     1      0   \n",
       "\n",
       "   alco  active  cardio  \n",
       "0     0       1       0  \n",
       "1     0       1       1  \n",
       "2     0       0       1  \n",
       "3     0       1       1  \n",
       "4     0       0       0  \n",
       "5     0       0       0  \n",
       "6     0       1       0  \n",
       "7     0       1       1  \n",
       "8     0       1       0  \n",
       "9     0       0       0  "
      ]
     },
     "execution_count": 8,
     "metadata": {},
     "output_type": "execute_result"
    }
   ],
   "source": [
    "data = pd.read_csv('D:\\Capstone Project\\Deteksi_Cardiovascular\\cardio.csv', sep=';')\n",
    "data.head(10)"
   ]
  },
  {
   "cell_type": "code",
   "execution_count": 9,
   "metadata": {},
   "outputs": [
    {
     "data": {
      "text/plain": [
       "(70000, 13)"
      ]
     },
     "execution_count": 9,
     "metadata": {},
     "output_type": "execute_result"
    }
   ],
   "source": [
    "data.shape"
   ]
  },
  {
   "cell_type": "code",
   "execution_count": 10,
   "metadata": {
    "id": "w0FHzPTLfnvQ",
    "outputId": "e894ab3c-06ae-4363-fa22-a484164df5c3"
   },
   "outputs": [
    {
     "name": "stdout",
     "output_type": "stream",
     "text": [
      "<class 'pandas.core.frame.DataFrame'>\n",
      "RangeIndex: 70000 entries, 0 to 69999\n",
      "Data columns (total 13 columns):\n",
      " #   Column       Non-Null Count  Dtype  \n",
      "---  ------       --------------  -----  \n",
      " 0   id           70000 non-null  int64  \n",
      " 1   age          70000 non-null  int64  \n",
      " 2   gender       70000 non-null  int64  \n",
      " 3   height       70000 non-null  int64  \n",
      " 4   weight       70000 non-null  float64\n",
      " 5   ap_hi        70000 non-null  int64  \n",
      " 6   ap_lo        70000 non-null  int64  \n",
      " 7   cholesterol  70000 non-null  int64  \n",
      " 8   gluc         70000 non-null  int64  \n",
      " 9   smoke        70000 non-null  int64  \n",
      " 10  alco         70000 non-null  int64  \n",
      " 11  active       70000 non-null  int64  \n",
      " 12  cardio       70000 non-null  int64  \n",
      "dtypes: float64(1), int64(12)\n",
      "memory usage: 6.9 MB\n"
     ]
    }
   ],
   "source": [
    "data.info()"
   ]
  },
  {
   "cell_type": "code",
   "execution_count": 11,
   "metadata": {},
   "outputs": [],
   "source": [
    "data = data.drop(columns=['id'])"
   ]
  },
  {
   "cell_type": "code",
   "execution_count": 12,
   "metadata": {},
   "outputs": [
    {
     "data": {
      "text/html": [
       "<div>\n",
       "<style scoped>\n",
       "    .dataframe tbody tr th:only-of-type {\n",
       "        vertical-align: middle;\n",
       "    }\n",
       "\n",
       "    .dataframe tbody tr th {\n",
       "        vertical-align: top;\n",
       "    }\n",
       "\n",
       "    .dataframe thead th {\n",
       "        text-align: right;\n",
       "    }\n",
       "</style>\n",
       "<table border=\"1\" class=\"dataframe\">\n",
       "  <thead>\n",
       "    <tr style=\"text-align: right;\">\n",
       "      <th></th>\n",
       "      <th>count</th>\n",
       "      <th>mean</th>\n",
       "      <th>std</th>\n",
       "      <th>min</th>\n",
       "      <th>25%</th>\n",
       "      <th>50%</th>\n",
       "      <th>75%</th>\n",
       "      <th>max</th>\n",
       "    </tr>\n",
       "  </thead>\n",
       "  <tbody>\n",
       "    <tr>\n",
       "      <th>age</th>\n",
       "      <td>70000.0</td>\n",
       "      <td>19468.865814</td>\n",
       "      <td>2467.251667</td>\n",
       "      <td>10798.0</td>\n",
       "      <td>17664.0</td>\n",
       "      <td>19703.0</td>\n",
       "      <td>21327.0</td>\n",
       "      <td>23713.0</td>\n",
       "    </tr>\n",
       "    <tr>\n",
       "      <th>gender</th>\n",
       "      <td>70000.0</td>\n",
       "      <td>1.349571</td>\n",
       "      <td>0.476838</td>\n",
       "      <td>1.0</td>\n",
       "      <td>1.0</td>\n",
       "      <td>1.0</td>\n",
       "      <td>2.0</td>\n",
       "      <td>2.0</td>\n",
       "    </tr>\n",
       "    <tr>\n",
       "      <th>height</th>\n",
       "      <td>70000.0</td>\n",
       "      <td>164.359229</td>\n",
       "      <td>8.210126</td>\n",
       "      <td>55.0</td>\n",
       "      <td>159.0</td>\n",
       "      <td>165.0</td>\n",
       "      <td>170.0</td>\n",
       "      <td>250.0</td>\n",
       "    </tr>\n",
       "    <tr>\n",
       "      <th>weight</th>\n",
       "      <td>70000.0</td>\n",
       "      <td>74.205690</td>\n",
       "      <td>14.395757</td>\n",
       "      <td>10.0</td>\n",
       "      <td>65.0</td>\n",
       "      <td>72.0</td>\n",
       "      <td>82.0</td>\n",
       "      <td>200.0</td>\n",
       "    </tr>\n",
       "    <tr>\n",
       "      <th>ap_hi</th>\n",
       "      <td>70000.0</td>\n",
       "      <td>128.817286</td>\n",
       "      <td>154.011419</td>\n",
       "      <td>-150.0</td>\n",
       "      <td>120.0</td>\n",
       "      <td>120.0</td>\n",
       "      <td>140.0</td>\n",
       "      <td>16020.0</td>\n",
       "    </tr>\n",
       "    <tr>\n",
       "      <th>ap_lo</th>\n",
       "      <td>70000.0</td>\n",
       "      <td>96.630414</td>\n",
       "      <td>188.472530</td>\n",
       "      <td>-70.0</td>\n",
       "      <td>80.0</td>\n",
       "      <td>80.0</td>\n",
       "      <td>90.0</td>\n",
       "      <td>11000.0</td>\n",
       "    </tr>\n",
       "    <tr>\n",
       "      <th>cholesterol</th>\n",
       "      <td>70000.0</td>\n",
       "      <td>1.366871</td>\n",
       "      <td>0.680250</td>\n",
       "      <td>1.0</td>\n",
       "      <td>1.0</td>\n",
       "      <td>1.0</td>\n",
       "      <td>2.0</td>\n",
       "      <td>3.0</td>\n",
       "    </tr>\n",
       "    <tr>\n",
       "      <th>gluc</th>\n",
       "      <td>70000.0</td>\n",
       "      <td>1.226457</td>\n",
       "      <td>0.572270</td>\n",
       "      <td>1.0</td>\n",
       "      <td>1.0</td>\n",
       "      <td>1.0</td>\n",
       "      <td>1.0</td>\n",
       "      <td>3.0</td>\n",
       "    </tr>\n",
       "    <tr>\n",
       "      <th>smoke</th>\n",
       "      <td>70000.0</td>\n",
       "      <td>0.088129</td>\n",
       "      <td>0.283484</td>\n",
       "      <td>0.0</td>\n",
       "      <td>0.0</td>\n",
       "      <td>0.0</td>\n",
       "      <td>0.0</td>\n",
       "      <td>1.0</td>\n",
       "    </tr>\n",
       "    <tr>\n",
       "      <th>alco</th>\n",
       "      <td>70000.0</td>\n",
       "      <td>0.053771</td>\n",
       "      <td>0.225568</td>\n",
       "      <td>0.0</td>\n",
       "      <td>0.0</td>\n",
       "      <td>0.0</td>\n",
       "      <td>0.0</td>\n",
       "      <td>1.0</td>\n",
       "    </tr>\n",
       "    <tr>\n",
       "      <th>active</th>\n",
       "      <td>70000.0</td>\n",
       "      <td>0.803729</td>\n",
       "      <td>0.397179</td>\n",
       "      <td>0.0</td>\n",
       "      <td>1.0</td>\n",
       "      <td>1.0</td>\n",
       "      <td>1.0</td>\n",
       "      <td>1.0</td>\n",
       "    </tr>\n",
       "    <tr>\n",
       "      <th>cardio</th>\n",
       "      <td>70000.0</td>\n",
       "      <td>0.499700</td>\n",
       "      <td>0.500003</td>\n",
       "      <td>0.0</td>\n",
       "      <td>0.0</td>\n",
       "      <td>0.0</td>\n",
       "      <td>1.0</td>\n",
       "      <td>1.0</td>\n",
       "    </tr>\n",
       "  </tbody>\n",
       "</table>\n",
       "</div>"
      ],
      "text/plain": [
       "               count          mean          std      min      25%      50%  \\\n",
       "age          70000.0  19468.865814  2467.251667  10798.0  17664.0  19703.0   \n",
       "gender       70000.0      1.349571     0.476838      1.0      1.0      1.0   \n",
       "height       70000.0    164.359229     8.210126     55.0    159.0    165.0   \n",
       "weight       70000.0     74.205690    14.395757     10.0     65.0     72.0   \n",
       "ap_hi        70000.0    128.817286   154.011419   -150.0    120.0    120.0   \n",
       "ap_lo        70000.0     96.630414   188.472530    -70.0     80.0     80.0   \n",
       "cholesterol  70000.0      1.366871     0.680250      1.0      1.0      1.0   \n",
       "gluc         70000.0      1.226457     0.572270      1.0      1.0      1.0   \n",
       "smoke        70000.0      0.088129     0.283484      0.0      0.0      0.0   \n",
       "alco         70000.0      0.053771     0.225568      0.0      0.0      0.0   \n",
       "active       70000.0      0.803729     0.397179      0.0      1.0      1.0   \n",
       "cardio       70000.0      0.499700     0.500003      0.0      0.0      0.0   \n",
       "\n",
       "                 75%      max  \n",
       "age          21327.0  23713.0  \n",
       "gender           2.0      2.0  \n",
       "height         170.0    250.0  \n",
       "weight          82.0    200.0  \n",
       "ap_hi          140.0  16020.0  \n",
       "ap_lo           90.0  11000.0  \n",
       "cholesterol      2.0      3.0  \n",
       "gluc             1.0      3.0  \n",
       "smoke            0.0      1.0  \n",
       "alco             0.0      1.0  \n",
       "active           1.0      1.0  \n",
       "cardio           1.0      1.0  "
      ]
     },
     "execution_count": 12,
     "metadata": {},
     "output_type": "execute_result"
    }
   ],
   "source": [
    "data.describe().T"
   ]
  },
  {
   "cell_type": "markdown",
   "metadata": {},
   "source": [
    "# Data Preprocessing"
   ]
  },
  {
   "cell_type": "code",
   "execution_count": 13,
   "metadata": {},
   "outputs": [
    {
     "data": {
      "text/plain": [
       "age            0\n",
       "gender         0\n",
       "height         0\n",
       "weight         0\n",
       "ap_hi          0\n",
       "ap_lo          0\n",
       "cholesterol    0\n",
       "gluc           0\n",
       "smoke          0\n",
       "alco           0\n",
       "active         0\n",
       "cardio         0\n",
       "dtype: int64"
      ]
     },
     "execution_count": 13,
     "metadata": {},
     "output_type": "execute_result"
    }
   ],
   "source": [
    "data.isnull().sum()"
   ]
  },
  {
   "cell_type": "code",
   "execution_count": 14,
   "metadata": {},
   "outputs": [
    {
     "data": {
      "text/plain": [
       "48"
      ]
     },
     "execution_count": 14,
     "metadata": {},
     "output_type": "execute_result"
    }
   ],
   "source": [
    "# sum of duplicated values in the DataFrame\n",
    "data.duplicated(keep=False).sum()"
   ]
  },
  {
   "cell_type": "code",
   "execution_count": 15,
   "metadata": {},
   "outputs": [],
   "source": [
    "data = data.drop_duplicates()"
   ]
  },
  {
   "cell_type": "code",
   "execution_count": 16,
   "metadata": {},
   "outputs": [
    {
     "name": "stdout",
     "output_type": "stream",
     "text": [
      "Jumlah data setelah penghapusan outlier: 62481\n"
     ]
    }
   ],
   "source": [
    "import pandas as pd\n",
    "\n",
    "# Fungsi untuk menghapus outlier berdasarkan metode IQR\n",
    "def drop_outliers_iqr(df, column):\n",
    "    Q1 = df[column].quantile(0.25)  # Kuartil 1 (25%)\n",
    "    Q3 = df[column].quantile(0.75)  # Kuartil 3 (75%)\n",
    "    IQR = Q3 - Q1  # Interquartile Range\n",
    "    lower_bound = Q1 - 1.5 * IQR  # Batas bawah\n",
    "    upper_bound = Q3 + 1.5 * IQR  # Batas atas\n",
    "\n",
    "    # Hapus data yang berada di luar batas\n",
    "    return df[(df[column] >= lower_bound) & (df[column] <= upper_bound)]\n",
    "\n",
    "# List fitur yang akan dibersihkan dari outlier\n",
    "columns_to_clean = ['height', 'weight', 'ap_hi', 'ap_lo']\n",
    "\n",
    "# Loop untuk menghapus outlier pada setiap kolom\n",
    "for col in columns_to_clean:\n",
    "    data = drop_outliers_iqr(data, col)\n",
    "\n",
    "# Cek jumlah data setelah penghapusan outlier\n",
    "print(\"Jumlah data setelah penghapusan outlier:\", len(data))"
   ]
  },
  {
   "cell_type": "code",
   "execution_count": 17,
   "metadata": {},
   "outputs": [],
   "source": [
    "data[\"gender\"] = data[\"gender\"].replace({1: 0, 2: 1})"
   ]
  },
  {
   "cell_type": "code",
   "execution_count": 18,
   "metadata": {},
   "outputs": [],
   "source": [
    "# Menghapus baris di mana weight memiliki nilai desimal\n",
    "data = data[data['weight'].astype(int) == data['weight']]\n",
    "\n",
    "# Mengonversi kolom weight menjadi integer\n",
    "data['weight'] = data['weight'].astype('int64')"
   ]
  },
  {
   "cell_type": "code",
   "execution_count": 19,
   "metadata": {},
   "outputs": [],
   "source": [
    "data['age'] = data['age'] / 365.25\n",
    "data['age_years'] = data['age'].astype('int64')"
   ]
  },
  {
   "cell_type": "code",
   "execution_count": 20,
   "metadata": {},
   "outputs": [
    {
     "name": "stdout",
     "output_type": "stream",
     "text": [
      "min = 29, max = 64, mean = 52.87\n"
     ]
    }
   ],
   "source": [
    "#Calculate age\n",
    "minAge=min(data.age_years)\n",
    "maxAge=max(data.age_years)\n",
    "meanAge=data.age_years.mean()\n",
    "print(f\"min = {minAge}, max = {maxAge}, mean = {meanAge:.2f}\")"
   ]
  },
  {
   "cell_type": "code",
   "execution_count": 21,
   "metadata": {},
   "outputs": [],
   "source": [
    "# Drop the original 'age' column\n",
    "data.drop(columns=['age'], inplace=True)"
   ]
  },
  {
   "cell_type": "code",
   "execution_count": 22,
   "metadata": {},
   "outputs": [
    {
     "name": "stdout",
     "output_type": "stream",
     "text": [
      "<class 'pandas.core.frame.DataFrame'>\n",
      "Index: 62319 entries, 0 to 69999\n",
      "Data columns (total 12 columns):\n",
      " #   Column       Non-Null Count  Dtype\n",
      "---  ------       --------------  -----\n",
      " 0   gender       62319 non-null  int64\n",
      " 1   height       62319 non-null  int64\n",
      " 2   weight       62319 non-null  int64\n",
      " 3   ap_hi        62319 non-null  int64\n",
      " 4   ap_lo        62319 non-null  int64\n",
      " 5   cholesterol  62319 non-null  int64\n",
      " 6   gluc         62319 non-null  int64\n",
      " 7   smoke        62319 non-null  int64\n",
      " 8   alco         62319 non-null  int64\n",
      " 9   active       62319 non-null  int64\n",
      " 10  cardio       62319 non-null  int64\n",
      " 11  age_years    62319 non-null  int64\n",
      "dtypes: int64(12)\n",
      "memory usage: 6.2 MB\n"
     ]
    }
   ],
   "source": [
    "data.info()"
   ]
  },
  {
   "cell_type": "code",
   "execution_count": 44,
   "metadata": {},
   "outputs": [
    {
     "name": "stdout",
     "output_type": "stream",
     "text": [
      "       gender  height  weight  ap_hi  ap_lo  cholesterol  gluc  smoke  alco  \\\n",
      "0           1     168      62    110     80            1     1      0     0   \n",
      "1           0     156      85    140     90            3     1      0     0   \n",
      "2           0     165      64    130     70            3     1      0     0   \n",
      "3           1     169      82    150    100            1     1      0     0   \n",
      "4           0     151      67    120     80            2     2      0     0   \n",
      "...       ...     ...     ...    ...    ...          ...   ...    ...   ...   \n",
      "62314       0     172      70    130     90            1     1      0     0   \n",
      "62315       0     165      80    150     80            1     1      0     0   \n",
      "62316       1     168      76    120     80            1     1      1     0   \n",
      "62317       0     163      72    135     80            1     2      0     0   \n",
      "62318       0     170      72    120     80            2     1      0     0   \n",
      "\n",
      "       active  cardio  age_years  \n",
      "0           1       0         50  \n",
      "1           1       1         55  \n",
      "2           0       1         51  \n",
      "3           1       1         48  \n",
      "4           0       0         59  \n",
      "...       ...     ...        ...  \n",
      "62314       1       1         53  \n",
      "62315       1       1         57  \n",
      "62316       1       0         52  \n",
      "62317       0       1         61  \n",
      "62318       1       0         56  \n",
      "\n",
      "[62319 rows x 12 columns]\n"
     ]
    }
   ],
   "source": [
    "data = data[(data[\"height\"] <= 200) & (data[\"weight\"] <= 150)]\n",
    "\n",
    "# Mengatur ulang indeks setelah penghapusan\n",
    "data = data.reset_index(drop=True)\n",
    "\n",
    "# Menampilkan data dengan indeks yang telah diperbaiki\n",
    "print(data)"
   ]
  },
  {
   "cell_type": "code",
   "execution_count": 24,
   "metadata": {},
   "outputs": [
    {
     "name": "stdout",
     "output_type": "stream",
     "text": [
      "       gender  height  weight  ap_hi  ap_lo  cholesterol  gluc  smoke  alco  \\\n",
      "0           1     168      62    110     80            1     1      0     0   \n",
      "1           0     156      85    140     90            3     1      0     0   \n",
      "2           0     165      64    130     70            3     1      0     0   \n",
      "3           1     169      82    150    100            1     1      0     0   \n",
      "4           0     151      67    120     80            2     2      0     0   \n",
      "...       ...     ...     ...    ...    ...          ...   ...    ...   ...   \n",
      "62314       0     172      70    130     90            1     1      0     0   \n",
      "62315       0     165      80    150     80            1     1      0     0   \n",
      "62316       1     168      76    120     80            1     1      1     0   \n",
      "62317       0     163      72    135     80            1     2      0     0   \n",
      "62318       0     170      72    120     80            2     1      0     0   \n",
      "\n",
      "       active  cardio  age_years  \n",
      "0           1       0         50  \n",
      "1           1       1         55  \n",
      "2           0       1         51  \n",
      "3           1       1         48  \n",
      "4           0       0         59  \n",
      "...       ...     ...        ...  \n",
      "62314       1       1         53  \n",
      "62315       1       1         57  \n",
      "62316       1       0         52  \n",
      "62317       0       1         61  \n",
      "62318       1       0         56  \n",
      "\n",
      "[62319 rows x 12 columns]\n"
     ]
    }
   ],
   "source": [
    "# Menghapus baris di mana nilai ap_hi kurang dari 50 atau lebih dari 245\n",
    "data = data[(data['ap_hi'] >= 50) & (data['ap_hi'] <= 245)]\n",
    "\n",
    "# Mengatur ulang indeks setelah penghapusan\n",
    "data = data.reset_index(drop=True)\n",
    "\n",
    "# Menampilkan data dengan indeks yang telah diperbaiki\n",
    "print(data)"
   ]
  },
  {
   "cell_type": "code",
   "execution_count": 25,
   "metadata": {},
   "outputs": [
    {
     "name": "stdout",
     "output_type": "stream",
     "text": [
      "       gender  height  weight  ap_hi  ap_lo  cholesterol  gluc  smoke  alco  \\\n",
      "0           1     168      62    110     80            1     1      0     0   \n",
      "1           0     156      85    140     90            3     1      0     0   \n",
      "2           0     165      64    130     70            3     1      0     0   \n",
      "3           1     169      82    150    100            1     1      0     0   \n",
      "4           0     151      67    120     80            2     2      0     0   \n",
      "...       ...     ...     ...    ...    ...          ...   ...    ...   ...   \n",
      "62314       0     172      70    130     90            1     1      0     0   \n",
      "62315       0     165      80    150     80            1     1      0     0   \n",
      "62316       1     168      76    120     80            1     1      1     0   \n",
      "62317       0     163      72    135     80            1     2      0     0   \n",
      "62318       0     170      72    120     80            2     1      0     0   \n",
      "\n",
      "       active  cardio  age_years  \n",
      "0           1       0         50  \n",
      "1           1       1         55  \n",
      "2           0       1         51  \n",
      "3           1       1         48  \n",
      "4           0       0         59  \n",
      "...       ...     ...        ...  \n",
      "62314       1       1         53  \n",
      "62315       1       1         57  \n",
      "62316       1       0         52  \n",
      "62317       0       1         61  \n",
      "62318       1       0         56  \n",
      "\n",
      "[62319 rows x 12 columns]\n"
     ]
    }
   ],
   "source": [
    "# Menghapus nilai ap_lo yang tidak masuk akal\n",
    "data = data[(data['ap_lo'] >= 50) & (data['ap_lo'] <= 200)]\n",
    "\n",
    "# Mengatur ulang indeks\n",
    "data = data.reset_index(drop=True)\n",
    "\n",
    "# Menampilkan data dengan indeks yang telah diperbaiki\n",
    "print(data)\n"
   ]
  },
  {
   "cell_type": "code",
   "execution_count": 26,
   "metadata": {
    "id": "krvIvKnsfnvd",
    "outputId": "e109ad0a-62da-43c9-9531-b9641d980800"
   },
   "outputs": [
    {
     "name": "stdout",
     "output_type": "stream",
     "text": [
      "Tidak ada outlier pada fitur smoke.\n",
      "Tidak ada outlier pada fitur alco.\n",
      "Tidak ada outlier pada fitur active.\n",
      "Tidak ada outlier pada fitur cardio.\n"
     ]
    }
   ],
   "source": [
    "# Memeriksa nilai yang di luar dari 0 atau 1 pada fitur biner\n",
    "binary_features = ['smoke', 'alco', 'active', 'cardio']\n",
    "for feature in binary_features:\n",
    "    outlier_indices = data[~data[feature].isin([0, 1])].index\n",
    "    if len(outlier_indices) > 0:\n",
    "        print(f\"Outlier ditemukan pada fitur {feature}:\")\n",
    "        print(data.loc[outlier_indices])\n",
    "    else:\n",
    "        print(f\"Tidak ada outlier pada fitur {feature}.\")"
   ]
  },
  {
   "cell_type": "code",
   "execution_count": 27,
   "metadata": {
    "id": "Qu0glwUjfnvk",
    "outputId": "057b4046-0b19-49fd-bc8e-795c4626e220"
   },
   "outputs": [
    {
     "data": {
      "text/html": [
       "<div>\n",
       "<style scoped>\n",
       "    .dataframe tbody tr th:only-of-type {\n",
       "        vertical-align: middle;\n",
       "    }\n",
       "\n",
       "    .dataframe tbody tr th {\n",
       "        vertical-align: top;\n",
       "    }\n",
       "\n",
       "    .dataframe thead th {\n",
       "        text-align: right;\n",
       "    }\n",
       "</style>\n",
       "<table border=\"1\" class=\"dataframe\">\n",
       "  <thead>\n",
       "    <tr style=\"text-align: right;\">\n",
       "      <th></th>\n",
       "      <th>gender</th>\n",
       "      <th>height</th>\n",
       "      <th>weight</th>\n",
       "      <th>ap_hi</th>\n",
       "      <th>ap_lo</th>\n",
       "      <th>cholesterol</th>\n",
       "      <th>gluc</th>\n",
       "      <th>smoke</th>\n",
       "      <th>alco</th>\n",
       "      <th>active</th>\n",
       "      <th>cardio</th>\n",
       "      <th>age_years</th>\n",
       "    </tr>\n",
       "  </thead>\n",
       "  <tbody>\n",
       "    <tr>\n",
       "      <th>0</th>\n",
       "      <td>1</td>\n",
       "      <td>168</td>\n",
       "      <td>62</td>\n",
       "      <td>110</td>\n",
       "      <td>80</td>\n",
       "      <td>1</td>\n",
       "      <td>1</td>\n",
       "      <td>0</td>\n",
       "      <td>0</td>\n",
       "      <td>1</td>\n",
       "      <td>0</td>\n",
       "      <td>50</td>\n",
       "    </tr>\n",
       "    <tr>\n",
       "      <th>1</th>\n",
       "      <td>0</td>\n",
       "      <td>156</td>\n",
       "      <td>85</td>\n",
       "      <td>140</td>\n",
       "      <td>90</td>\n",
       "      <td>3</td>\n",
       "      <td>1</td>\n",
       "      <td>0</td>\n",
       "      <td>0</td>\n",
       "      <td>1</td>\n",
       "      <td>1</td>\n",
       "      <td>55</td>\n",
       "    </tr>\n",
       "    <tr>\n",
       "      <th>2</th>\n",
       "      <td>0</td>\n",
       "      <td>165</td>\n",
       "      <td>64</td>\n",
       "      <td>130</td>\n",
       "      <td>70</td>\n",
       "      <td>3</td>\n",
       "      <td>1</td>\n",
       "      <td>0</td>\n",
       "      <td>0</td>\n",
       "      <td>0</td>\n",
       "      <td>1</td>\n",
       "      <td>51</td>\n",
       "    </tr>\n",
       "    <tr>\n",
       "      <th>3</th>\n",
       "      <td>1</td>\n",
       "      <td>169</td>\n",
       "      <td>82</td>\n",
       "      <td>150</td>\n",
       "      <td>100</td>\n",
       "      <td>1</td>\n",
       "      <td>1</td>\n",
       "      <td>0</td>\n",
       "      <td>0</td>\n",
       "      <td>1</td>\n",
       "      <td>1</td>\n",
       "      <td>48</td>\n",
       "    </tr>\n",
       "    <tr>\n",
       "      <th>4</th>\n",
       "      <td>0</td>\n",
       "      <td>151</td>\n",
       "      <td>67</td>\n",
       "      <td>120</td>\n",
       "      <td>80</td>\n",
       "      <td>2</td>\n",
       "      <td>2</td>\n",
       "      <td>0</td>\n",
       "      <td>0</td>\n",
       "      <td>0</td>\n",
       "      <td>0</td>\n",
       "      <td>59</td>\n",
       "    </tr>\n",
       "    <tr>\n",
       "      <th>5</th>\n",
       "      <td>0</td>\n",
       "      <td>157</td>\n",
       "      <td>93</td>\n",
       "      <td>130</td>\n",
       "      <td>80</td>\n",
       "      <td>3</td>\n",
       "      <td>1</td>\n",
       "      <td>0</td>\n",
       "      <td>0</td>\n",
       "      <td>1</td>\n",
       "      <td>0</td>\n",
       "      <td>60</td>\n",
       "    </tr>\n",
       "    <tr>\n",
       "      <th>6</th>\n",
       "      <td>1</td>\n",
       "      <td>178</td>\n",
       "      <td>95</td>\n",
       "      <td>130</td>\n",
       "      <td>90</td>\n",
       "      <td>3</td>\n",
       "      <td>3</td>\n",
       "      <td>0</td>\n",
       "      <td>0</td>\n",
       "      <td>1</td>\n",
       "      <td>1</td>\n",
       "      <td>61</td>\n",
       "    </tr>\n",
       "    <tr>\n",
       "      <th>7</th>\n",
       "      <td>0</td>\n",
       "      <td>158</td>\n",
       "      <td>71</td>\n",
       "      <td>110</td>\n",
       "      <td>70</td>\n",
       "      <td>1</td>\n",
       "      <td>1</td>\n",
       "      <td>0</td>\n",
       "      <td>0</td>\n",
       "      <td>1</td>\n",
       "      <td>0</td>\n",
       "      <td>48</td>\n",
       "    </tr>\n",
       "    <tr>\n",
       "      <th>8</th>\n",
       "      <td>0</td>\n",
       "      <td>169</td>\n",
       "      <td>80</td>\n",
       "      <td>120</td>\n",
       "      <td>80</td>\n",
       "      <td>1</td>\n",
       "      <td>1</td>\n",
       "      <td>0</td>\n",
       "      <td>0</td>\n",
       "      <td>1</td>\n",
       "      <td>0</td>\n",
       "      <td>61</td>\n",
       "    </tr>\n",
       "    <tr>\n",
       "      <th>9</th>\n",
       "      <td>1</td>\n",
       "      <td>173</td>\n",
       "      <td>60</td>\n",
       "      <td>120</td>\n",
       "      <td>80</td>\n",
       "      <td>1</td>\n",
       "      <td>1</td>\n",
       "      <td>0</td>\n",
       "      <td>0</td>\n",
       "      <td>1</td>\n",
       "      <td>0</td>\n",
       "      <td>51</td>\n",
       "    </tr>\n",
       "  </tbody>\n",
       "</table>\n",
       "</div>"
      ],
      "text/plain": [
       "   gender  height  weight  ap_hi  ap_lo  cholesterol  gluc  smoke  alco  \\\n",
       "0       1     168      62    110     80            1     1      0     0   \n",
       "1       0     156      85    140     90            3     1      0     0   \n",
       "2       0     165      64    130     70            3     1      0     0   \n",
       "3       1     169      82    150    100            1     1      0     0   \n",
       "4       0     151      67    120     80            2     2      0     0   \n",
       "5       0     157      93    130     80            3     1      0     0   \n",
       "6       1     178      95    130     90            3     3      0     0   \n",
       "7       0     158      71    110     70            1     1      0     0   \n",
       "8       0     169      80    120     80            1     1      0     0   \n",
       "9       1     173      60    120     80            1     1      0     0   \n",
       "\n",
       "   active  cardio  age_years  \n",
       "0       1       0         50  \n",
       "1       1       1         55  \n",
       "2       0       1         51  \n",
       "3       1       1         48  \n",
       "4       0       0         59  \n",
       "5       1       0         60  \n",
       "6       1       1         61  \n",
       "7       1       0         48  \n",
       "8       1       0         61  \n",
       "9       1       0         51  "
      ]
     },
     "execution_count": 27,
     "metadata": {},
     "output_type": "execute_result"
    }
   ],
   "source": [
    "data.head(10)"
   ]
  },
  {
   "cell_type": "code",
   "execution_count": 28,
   "metadata": {},
   "outputs": [],
   "source": [
    "# Menentukan urutan kolom yang baru\n",
    "new_order = ['gender','age_years', 'height','weight','ap_hi', 'ap_lo', 'cholesterol', 'gluc', 'smoke', 'alco', 'active', 'cardio']\n",
    "\n",
    "# Mengatur ulang kolom DataFrame sesuai dengan urutan yang ditentukan\n",
    "new_data = data[new_order]"
   ]
  },
  {
   "cell_type": "markdown",
   "metadata": {},
   "source": [
    "# Creating New Features"
   ]
  },
  {
   "cell_type": "code",
   "execution_count": 29,
   "metadata": {},
   "outputs": [
    {
     "name": "stderr",
     "output_type": "stream",
     "text": [
      "C:\\Users\\Imam Bari Setiawan\\AppData\\Local\\Temp\\ipykernel_13640\\1038516611.py:2: SettingWithCopyWarning: \n",
      "A value is trying to be set on a copy of a slice from a DataFrame.\n",
      "Try using .loc[row_indexer,col_indexer] = value instead\n",
      "\n",
      "See the caveats in the documentation: https://pandas.pydata.org/pandas-docs/stable/user_guide/indexing.html#returning-a-view-versus-a-copy\n",
      "  new_data['bmi'] = round(new_data['weight'] / (new_data['height'] / 100) ** 2, 2)\n",
      "C:\\Users\\Imam Bari Setiawan\\AppData\\Local\\Temp\\ipykernel_13640\\1038516611.py:5: SettingWithCopyWarning: \n",
      "A value is trying to be set on a copy of a slice from a DataFrame.\n",
      "Try using .loc[row_indexer,col_indexer] = value instead\n",
      "\n",
      "See the caveats in the documentation: https://pandas.pydata.org/pandas-docs/stable/user_guide/indexing.html#returning-a-view-versus-a-copy\n",
      "  new_data['tekanan_denyut_nadi'] = new_data['ap_hi'] - new_data['ap_lo']\n",
      "C:\\Users\\Imam Bari Setiawan\\AppData\\Local\\Temp\\ipykernel_13640\\1038516611.py:8: SettingWithCopyWarning: \n",
      "A value is trying to be set on a copy of a slice from a DataFrame.\n",
      "Try using .loc[row_indexer,col_indexer] = value instead\n",
      "\n",
      "See the caveats in the documentation: https://pandas.pydata.org/pandas-docs/stable/user_guide/indexing.html#returning-a-view-versus-a-copy\n",
      "  new_data['tekanan_arteri_ratarata'] = round(new_data['ap_lo'] + (new_data['ap_hi'] - new_data['ap_lo']) / 3, 2)\n",
      "C:\\Users\\Imam Bari Setiawan\\AppData\\Local\\Temp\\ipykernel_13640\\1038516611.py:11: SettingWithCopyWarning: \n",
      "A value is trying to be set on a copy of a slice from a DataFrame.\n",
      "Try using .loc[row_indexer,col_indexer] = value instead\n",
      "\n",
      "See the caveats in the documentation: https://pandas.pydata.org/pandas-docs/stable/user_guide/indexing.html#returning-a-view-versus-a-copy\n",
      "  new_data['sys_dsys_ratio'] = round(new_data['ap_hi'] / new_data['ap_lo'], 2)\n"
     ]
    }
   ],
   "source": [
    "#Body Mass Index-Indeks massa tubuh\n",
    "new_data['bmi'] = round(new_data['weight'] / (new_data['height'] / 100) ** 2, 2)\n",
    "\n",
    "#pulse_pressure\n",
    "new_data['tekanan_denyut_nadi'] = new_data['ap_hi'] - new_data['ap_lo']\n",
    "\n",
    "#MAP(Mean Arterial Pressure)\n",
    "new_data['tekanan_arteri_ratarata'] = round(new_data['ap_lo'] + (new_data['ap_hi'] - new_data['ap_lo']) / 3, 2)\n",
    "\n",
    "#Rasio antara tekanan darah sistolik dan diastolik\n",
    "new_data['sys_dsys_ratio'] = round(new_data['ap_hi'] / new_data['ap_lo'], 2)"
   ]
  },
  {
   "cell_type": "markdown",
   "metadata": {},
   "source": [
    "# Oversampling with Adaptive Synthetic Sampling"
   ]
  },
  {
   "cell_type": "code",
   "execution_count": null,
   "metadata": {},
   "outputs": [
    {
     "name": "stdout",
     "output_type": "stream",
     "text": [
      "UP SAMPLING : cholesterol\n",
      "UP SAMPLING : gluc\n",
      "UP SAMPLING : smoke\n",
      "UP SAMPLING : alco\n",
      "UP SAMPLING : active\n"
     ]
    }
   ],
   "source": [
    "import pandas as pd\n",
    "from imblearn.over_sampling import ADASYN\n",
    "\n",
    "# Kolom dengan kategori yang tidak seimbang\n",
    "columns_to_up_sample = ['cholesterol', 'gluc', 'smoke', 'alco', 'active'] \n",
    "\n",
    "# Membuat salinan dari DataFrame asli untuk menjaga keutuhan data\n",
    "new_data_copy = new_data.copy()\n",
    "\n",
    "# Melakukan oversampling menggunakan ADASYN untuk setiap kolom yang tidak seimbang\n",
    "for column in columns_to_up_sample:\n",
    "    print(f\"UP SAMPLING : {column}\")\n",
    "    adasyn = ADASYN(sampling_strategy='auto', random_state=42)\n",
    "    \n",
    "    # Menggunakan kolom yang sedang diproses sebagai variabel target (y)\n",
    "    X = new_data_copy.drop(columns=column)  # Semua kolom kecuali yang sedang diproses\n",
    "    y = new_data_copy[column]  # Kolom target yang ingin di-oversampling\n",
    "    \n",
    "    X_res, y_res = adasyn.fit_resample(X, y)\n",
    "    X_res[column] = y_res  # Menambahkan kembali kolom yang telah di-oversampling\n",
    "\n",
    "    new_data_copy = X_res.copy()  # Memperbarui DataFrame untuk iterasi berikutnya"
   ]
  },
  {
   "cell_type": "code",
   "execution_count": 31,
   "metadata": {},
   "outputs": [
    {
     "name": "stdout",
     "output_type": "stream",
     "text": [
      "New Dataset Shape:  (1784585, 16)\n"
     ]
    }
   ],
   "source": [
    "print(\"New Dataset Shape: \" , new_data_copy.shape)\n",
    "\n",
    "new_data = new_data_copy"
   ]
  },
  {
   "cell_type": "code",
   "execution_count": 32,
   "metadata": {},
   "outputs": [
    {
     "data": {
      "text/html": [
       "<div>\n",
       "<style scoped>\n",
       "    .dataframe tbody tr th:only-of-type {\n",
       "        vertical-align: middle;\n",
       "    }\n",
       "\n",
       "    .dataframe tbody tr th {\n",
       "        vertical-align: top;\n",
       "    }\n",
       "\n",
       "    .dataframe thead th {\n",
       "        text-align: right;\n",
       "    }\n",
       "</style>\n",
       "<table border=\"1\" class=\"dataframe\">\n",
       "  <thead>\n",
       "    <tr style=\"text-align: right;\">\n",
       "      <th></th>\n",
       "      <th>count</th>\n",
       "      <th>mean</th>\n",
       "      <th>std</th>\n",
       "      <th>min</th>\n",
       "      <th>25%</th>\n",
       "      <th>50%</th>\n",
       "      <th>75%</th>\n",
       "      <th>max</th>\n",
       "    </tr>\n",
       "  </thead>\n",
       "  <tbody>\n",
       "    <tr>\n",
       "      <th>gender</th>\n",
       "      <td>1784585.0</td>\n",
       "      <td>0.509840</td>\n",
       "      <td>0.499903</td>\n",
       "      <td>0.00</td>\n",
       "      <td>0.000000</td>\n",
       "      <td>1.000000</td>\n",
       "      <td>1.000000</td>\n",
       "      <td>1.00</td>\n",
       "    </tr>\n",
       "    <tr>\n",
       "      <th>age_years</th>\n",
       "      <td>1784585.0</td>\n",
       "      <td>52.055611</td>\n",
       "      <td>6.622473</td>\n",
       "      <td>29.00</td>\n",
       "      <td>47.000000</td>\n",
       "      <td>53.000000</td>\n",
       "      <td>57.000000</td>\n",
       "      <td>64.00</td>\n",
       "    </tr>\n",
       "    <tr>\n",
       "      <th>height</th>\n",
       "      <td>1784585.0</td>\n",
       "      <td>166.264971</td>\n",
       "      <td>7.557784</td>\n",
       "      <td>143.00</td>\n",
       "      <td>161.000000</td>\n",
       "      <td>167.000000</td>\n",
       "      <td>171.000000</td>\n",
       "      <td>186.00</td>\n",
       "    </tr>\n",
       "    <tr>\n",
       "      <th>weight</th>\n",
       "      <td>1784585.0</td>\n",
       "      <td>75.350012</td>\n",
       "      <td>12.387385</td>\n",
       "      <td>40.00</td>\n",
       "      <td>66.000000</td>\n",
       "      <td>74.000000</td>\n",
       "      <td>84.000000</td>\n",
       "      <td>107.00</td>\n",
       "    </tr>\n",
       "    <tr>\n",
       "      <th>ap_hi</th>\n",
       "      <td>1784585.0</td>\n",
       "      <td>128.201770</td>\n",
       "      <td>14.789247</td>\n",
       "      <td>90.00</td>\n",
       "      <td>120.000000</td>\n",
       "      <td>120.000000</td>\n",
       "      <td>140.000000</td>\n",
       "      <td>170.00</td>\n",
       "    </tr>\n",
       "    <tr>\n",
       "      <th>ap_lo</th>\n",
       "      <td>1784585.0</td>\n",
       "      <td>82.609181</td>\n",
       "      <td>8.000887</td>\n",
       "      <td>65.00</td>\n",
       "      <td>80.000000</td>\n",
       "      <td>80.000000</td>\n",
       "      <td>90.000000</td>\n",
       "      <td>105.00</td>\n",
       "    </tr>\n",
       "    <tr>\n",
       "      <th>cardio</th>\n",
       "      <td>1784585.0</td>\n",
       "      <td>0.316700</td>\n",
       "      <td>0.465189</td>\n",
       "      <td>0.00</td>\n",
       "      <td>0.000000</td>\n",
       "      <td>0.000000</td>\n",
       "      <td>1.000000</td>\n",
       "      <td>1.00</td>\n",
       "    </tr>\n",
       "    <tr>\n",
       "      <th>bmi</th>\n",
       "      <td>1784585.0</td>\n",
       "      <td>27.311318</td>\n",
       "      <td>4.423235</td>\n",
       "      <td>13.52</td>\n",
       "      <td>24.053562</td>\n",
       "      <td>26.657648</td>\n",
       "      <td>30.106689</td>\n",
       "      <td>50.89</td>\n",
       "    </tr>\n",
       "    <tr>\n",
       "      <th>tekanan_denyut_nadi</th>\n",
       "      <td>1784585.0</td>\n",
       "      <td>45.553492</td>\n",
       "      <td>10.882209</td>\n",
       "      <td>-10.00</td>\n",
       "      <td>40.000000</td>\n",
       "      <td>40.000000</td>\n",
       "      <td>50.000000</td>\n",
       "      <td>103.00</td>\n",
       "    </tr>\n",
       "    <tr>\n",
       "      <th>tekanan_arteri_ratarata</th>\n",
       "      <td>1784585.0</td>\n",
       "      <td>97.840051</td>\n",
       "      <td>9.448786</td>\n",
       "      <td>73.33</td>\n",
       "      <td>93.330000</td>\n",
       "      <td>93.330000</td>\n",
       "      <td>104.869419</td>\n",
       "      <td>126.00</td>\n",
       "    </tr>\n",
       "    <tr>\n",
       "      <th>sys_dsys_ratio</th>\n",
       "      <td>1784585.0</td>\n",
       "      <td>1.554329</td>\n",
       "      <td>0.133080</td>\n",
       "      <td>0.90</td>\n",
       "      <td>1.500000</td>\n",
       "      <td>1.500000</td>\n",
       "      <td>1.620000</td>\n",
       "      <td>2.54</td>\n",
       "    </tr>\n",
       "    <tr>\n",
       "      <th>cholesterol</th>\n",
       "      <td>1784585.0</td>\n",
       "      <td>1.547266</td>\n",
       "      <td>0.756307</td>\n",
       "      <td>1.00</td>\n",
       "      <td>1.000000</td>\n",
       "      <td>1.000000</td>\n",
       "      <td>2.000000</td>\n",
       "      <td>3.00</td>\n",
       "    </tr>\n",
       "    <tr>\n",
       "      <th>gluc</th>\n",
       "      <td>1784585.0</td>\n",
       "      <td>1.362381</td>\n",
       "      <td>0.657895</td>\n",
       "      <td>1.00</td>\n",
       "      <td>1.000000</td>\n",
       "      <td>1.000000</td>\n",
       "      <td>2.000000</td>\n",
       "      <td>3.00</td>\n",
       "    </tr>\n",
       "    <tr>\n",
       "      <th>smoke</th>\n",
       "      <td>1784585.0</td>\n",
       "      <td>0.479897</td>\n",
       "      <td>0.499596</td>\n",
       "      <td>0.00</td>\n",
       "      <td>0.000000</td>\n",
       "      <td>0.000000</td>\n",
       "      <td>1.000000</td>\n",
       "      <td>1.00</td>\n",
       "    </tr>\n",
       "    <tr>\n",
       "      <th>alco</th>\n",
       "      <td>1784585.0</td>\n",
       "      <td>0.383764</td>\n",
       "      <td>0.486302</td>\n",
       "      <td>0.00</td>\n",
       "      <td>0.000000</td>\n",
       "      <td>0.000000</td>\n",
       "      <td>1.000000</td>\n",
       "      <td>1.00</td>\n",
       "    </tr>\n",
       "    <tr>\n",
       "      <th>active</th>\n",
       "      <td>1784585.0</td>\n",
       "      <td>0.504291</td>\n",
       "      <td>0.499982</td>\n",
       "      <td>0.00</td>\n",
       "      <td>0.000000</td>\n",
       "      <td>1.000000</td>\n",
       "      <td>1.000000</td>\n",
       "      <td>1.00</td>\n",
       "    </tr>\n",
       "  </tbody>\n",
       "</table>\n",
       "</div>"
      ],
      "text/plain": [
       "                             count        mean        std     min         25%  \\\n",
       "gender                   1784585.0    0.509840   0.499903    0.00    0.000000   \n",
       "age_years                1784585.0   52.055611   6.622473   29.00   47.000000   \n",
       "height                   1784585.0  166.264971   7.557784  143.00  161.000000   \n",
       "weight                   1784585.0   75.350012  12.387385   40.00   66.000000   \n",
       "ap_hi                    1784585.0  128.201770  14.789247   90.00  120.000000   \n",
       "ap_lo                    1784585.0   82.609181   8.000887   65.00   80.000000   \n",
       "cardio                   1784585.0    0.316700   0.465189    0.00    0.000000   \n",
       "bmi                      1784585.0   27.311318   4.423235   13.52   24.053562   \n",
       "tekanan_denyut_nadi      1784585.0   45.553492  10.882209  -10.00   40.000000   \n",
       "tekanan_arteri_ratarata  1784585.0   97.840051   9.448786   73.33   93.330000   \n",
       "sys_dsys_ratio           1784585.0    1.554329   0.133080    0.90    1.500000   \n",
       "cholesterol              1784585.0    1.547266   0.756307    1.00    1.000000   \n",
       "gluc                     1784585.0    1.362381   0.657895    1.00    1.000000   \n",
       "smoke                    1784585.0    0.479897   0.499596    0.00    0.000000   \n",
       "alco                     1784585.0    0.383764   0.486302    0.00    0.000000   \n",
       "active                   1784585.0    0.504291   0.499982    0.00    0.000000   \n",
       "\n",
       "                                50%         75%     max  \n",
       "gender                     1.000000    1.000000    1.00  \n",
       "age_years                 53.000000   57.000000   64.00  \n",
       "height                   167.000000  171.000000  186.00  \n",
       "weight                    74.000000   84.000000  107.00  \n",
       "ap_hi                    120.000000  140.000000  170.00  \n",
       "ap_lo                     80.000000   90.000000  105.00  \n",
       "cardio                     0.000000    1.000000    1.00  \n",
       "bmi                       26.657648   30.106689   50.89  \n",
       "tekanan_denyut_nadi       40.000000   50.000000  103.00  \n",
       "tekanan_arteri_ratarata   93.330000  104.869419  126.00  \n",
       "sys_dsys_ratio             1.500000    1.620000    2.54  \n",
       "cholesterol                1.000000    2.000000    3.00  \n",
       "gluc                       1.000000    2.000000    3.00  \n",
       "smoke                      0.000000    1.000000    1.00  \n",
       "alco                       0.000000    1.000000    1.00  \n",
       "active                     1.000000    1.000000    1.00  "
      ]
     },
     "execution_count": 32,
     "metadata": {},
     "output_type": "execute_result"
    }
   ],
   "source": [
    "new_data.describe().T"
   ]
  },
  {
   "cell_type": "markdown",
   "metadata": {},
   "source": [
    "# Split Feature and Target"
   ]
  },
  {
   "cell_type": "code",
   "execution_count": null,
   "metadata": {},
   "outputs": [],
   "source": [
    "features=new_data[['gender','age_years', 'bmi', 'tekanan_denyut_nadi', 'tekanan_arteri_ratarata',\n",
    "                   'sys_dsys_ratio', 'cholesterol', 'gluc', 'smoke', 'alco', 'active']]\n",
    "target=new_data['cardio']"
   ]
  },
  {
   "cell_type": "code",
   "execution_count": 34,
   "metadata": {},
   "outputs": [
    {
     "data": {
      "text/html": [
       "<div>\n",
       "<style scoped>\n",
       "    .dataframe tbody tr th:only-of-type {\n",
       "        vertical-align: middle;\n",
       "    }\n",
       "\n",
       "    .dataframe tbody tr th {\n",
       "        vertical-align: top;\n",
       "    }\n",
       "\n",
       "    .dataframe thead th {\n",
       "        text-align: right;\n",
       "    }\n",
       "</style>\n",
       "<table border=\"1\" class=\"dataframe\">\n",
       "  <thead>\n",
       "    <tr style=\"text-align: right;\">\n",
       "      <th></th>\n",
       "      <th>gender</th>\n",
       "      <th>age_years</th>\n",
       "      <th>bmi</th>\n",
       "      <th>tekanan_denyut_nadi</th>\n",
       "      <th>tekanan_arteri_ratarata</th>\n",
       "      <th>sys_dsys_ratio</th>\n",
       "      <th>cholesterol</th>\n",
       "      <th>gluc</th>\n",
       "      <th>smoke</th>\n",
       "      <th>alco</th>\n",
       "      <th>active</th>\n",
       "    </tr>\n",
       "  </thead>\n",
       "  <tbody>\n",
       "    <tr>\n",
       "      <th>0</th>\n",
       "      <td>1</td>\n",
       "      <td>50</td>\n",
       "      <td>21.970000</td>\n",
       "      <td>30</td>\n",
       "      <td>90.00</td>\n",
       "      <td>1.38</td>\n",
       "      <td>1</td>\n",
       "      <td>1</td>\n",
       "      <td>0</td>\n",
       "      <td>0</td>\n",
       "      <td>1</td>\n",
       "    </tr>\n",
       "    <tr>\n",
       "      <th>1</th>\n",
       "      <td>0</td>\n",
       "      <td>55</td>\n",
       "      <td>34.930000</td>\n",
       "      <td>50</td>\n",
       "      <td>106.67</td>\n",
       "      <td>1.56</td>\n",
       "      <td>3</td>\n",
       "      <td>1</td>\n",
       "      <td>0</td>\n",
       "      <td>0</td>\n",
       "      <td>1</td>\n",
       "    </tr>\n",
       "    <tr>\n",
       "      <th>2</th>\n",
       "      <td>0</td>\n",
       "      <td>51</td>\n",
       "      <td>23.510000</td>\n",
       "      <td>60</td>\n",
       "      <td>90.00</td>\n",
       "      <td>1.86</td>\n",
       "      <td>3</td>\n",
       "      <td>1</td>\n",
       "      <td>0</td>\n",
       "      <td>0</td>\n",
       "      <td>0</td>\n",
       "    </tr>\n",
       "    <tr>\n",
       "      <th>3</th>\n",
       "      <td>1</td>\n",
       "      <td>48</td>\n",
       "      <td>28.710000</td>\n",
       "      <td>50</td>\n",
       "      <td>116.67</td>\n",
       "      <td>1.50</td>\n",
       "      <td>1</td>\n",
       "      <td>1</td>\n",
       "      <td>0</td>\n",
       "      <td>0</td>\n",
       "      <td>1</td>\n",
       "    </tr>\n",
       "    <tr>\n",
       "      <th>4</th>\n",
       "      <td>0</td>\n",
       "      <td>59</td>\n",
       "      <td>29.380000</td>\n",
       "      <td>40</td>\n",
       "      <td>93.33</td>\n",
       "      <td>1.50</td>\n",
       "      <td>2</td>\n",
       "      <td>2</td>\n",
       "      <td>0</td>\n",
       "      <td>0</td>\n",
       "      <td>0</td>\n",
       "    </tr>\n",
       "    <tr>\n",
       "      <th>...</th>\n",
       "      <td>...</td>\n",
       "      <td>...</td>\n",
       "      <td>...</td>\n",
       "      <td>...</td>\n",
       "      <td>...</td>\n",
       "      <td>...</td>\n",
       "      <td>...</td>\n",
       "      <td>...</td>\n",
       "      <td>...</td>\n",
       "      <td>...</td>\n",
       "      <td>...</td>\n",
       "    </tr>\n",
       "    <tr>\n",
       "      <th>1784580</th>\n",
       "      <td>0</td>\n",
       "      <td>54</td>\n",
       "      <td>32.119058</td>\n",
       "      <td>50</td>\n",
       "      <td>116.67</td>\n",
       "      <td>1.50</td>\n",
       "      <td>1</td>\n",
       "      <td>1</td>\n",
       "      <td>1</td>\n",
       "      <td>1</td>\n",
       "      <td>0</td>\n",
       "    </tr>\n",
       "    <tr>\n",
       "      <th>1784581</th>\n",
       "      <td>0</td>\n",
       "      <td>54</td>\n",
       "      <td>32.121554</td>\n",
       "      <td>50</td>\n",
       "      <td>116.67</td>\n",
       "      <td>1.50</td>\n",
       "      <td>1</td>\n",
       "      <td>1</td>\n",
       "      <td>1</td>\n",
       "      <td>1</td>\n",
       "      <td>0</td>\n",
       "    </tr>\n",
       "    <tr>\n",
       "      <th>1784582</th>\n",
       "      <td>0</td>\n",
       "      <td>54</td>\n",
       "      <td>32.120180</td>\n",
       "      <td>50</td>\n",
       "      <td>116.67</td>\n",
       "      <td>1.50</td>\n",
       "      <td>1</td>\n",
       "      <td>1</td>\n",
       "      <td>1</td>\n",
       "      <td>1</td>\n",
       "      <td>0</td>\n",
       "    </tr>\n",
       "    <tr>\n",
       "      <th>1784583</th>\n",
       "      <td>0</td>\n",
       "      <td>54</td>\n",
       "      <td>32.128318</td>\n",
       "      <td>50</td>\n",
       "      <td>116.67</td>\n",
       "      <td>1.50</td>\n",
       "      <td>1</td>\n",
       "      <td>1</td>\n",
       "      <td>1</td>\n",
       "      <td>1</td>\n",
       "      <td>0</td>\n",
       "    </tr>\n",
       "    <tr>\n",
       "      <th>1784584</th>\n",
       "      <td>0</td>\n",
       "      <td>54</td>\n",
       "      <td>32.116929</td>\n",
       "      <td>50</td>\n",
       "      <td>116.67</td>\n",
       "      <td>1.50</td>\n",
       "      <td>1</td>\n",
       "      <td>1</td>\n",
       "      <td>1</td>\n",
       "      <td>1</td>\n",
       "      <td>0</td>\n",
       "    </tr>\n",
       "  </tbody>\n",
       "</table>\n",
       "<p>1784585 rows × 11 columns</p>\n",
       "</div>"
      ],
      "text/plain": [
       "         gender  age_years        bmi  tekanan_denyut_nadi  \\\n",
       "0             1         50  21.970000                   30   \n",
       "1             0         55  34.930000                   50   \n",
       "2             0         51  23.510000                   60   \n",
       "3             1         48  28.710000                   50   \n",
       "4             0         59  29.380000                   40   \n",
       "...         ...        ...        ...                  ...   \n",
       "1784580       0         54  32.119058                   50   \n",
       "1784581       0         54  32.121554                   50   \n",
       "1784582       0         54  32.120180                   50   \n",
       "1784583       0         54  32.128318                   50   \n",
       "1784584       0         54  32.116929                   50   \n",
       "\n",
       "         tekanan_arteri_ratarata  sys_dsys_ratio  cholesterol  gluc  smoke  \\\n",
       "0                          90.00            1.38            1     1      0   \n",
       "1                         106.67            1.56            3     1      0   \n",
       "2                          90.00            1.86            3     1      0   \n",
       "3                         116.67            1.50            1     1      0   \n",
       "4                          93.33            1.50            2     2      0   \n",
       "...                          ...             ...          ...   ...    ...   \n",
       "1784580                   116.67            1.50            1     1      1   \n",
       "1784581                   116.67            1.50            1     1      1   \n",
       "1784582                   116.67            1.50            1     1      1   \n",
       "1784583                   116.67            1.50            1     1      1   \n",
       "1784584                   116.67            1.50            1     1      1   \n",
       "\n",
       "         alco  active  \n",
       "0           0       1  \n",
       "1           0       1  \n",
       "2           0       0  \n",
       "3           0       1  \n",
       "4           0       0  \n",
       "...       ...     ...  \n",
       "1784580     1       0  \n",
       "1784581     1       0  \n",
       "1784582     1       0  \n",
       "1784583     1       0  \n",
       "1784584     1       0  \n",
       "\n",
       "[1784585 rows x 11 columns]"
      ]
     },
     "execution_count": 34,
     "metadata": {},
     "output_type": "execute_result"
    }
   ],
   "source": [
    "features"
   ]
  },
  {
   "cell_type": "code",
   "execution_count": 35,
   "metadata": {},
   "outputs": [
    {
     "data": {
      "text/plain": [
       "0          0\n",
       "1          1\n",
       "2          1\n",
       "3          1\n",
       "4          0\n",
       "          ..\n",
       "1784580    1\n",
       "1784581    1\n",
       "1784582    1\n",
       "1784583    1\n",
       "1784584    1\n",
       "Name: cardio, Length: 1784585, dtype: int64"
      ]
     },
     "execution_count": 35,
     "metadata": {},
     "output_type": "execute_result"
    }
   ],
   "source": [
    "target"
   ]
  },
  {
   "cell_type": "code",
   "execution_count": 36,
   "metadata": {},
   "outputs": [
    {
     "name": "stdout",
     "output_type": "stream",
     "text": [
      "False\n"
     ]
    }
   ],
   "source": [
    "# cek NaN\n",
    "print(features.isna().values.any())"
   ]
  },
  {
   "cell_type": "code",
   "execution_count": 37,
   "metadata": {},
   "outputs": [],
   "source": [
    "from sklearn.model_selection import train_test_split\n",
    "\n",
    "x_train, x_test, y_train, y_test = train_test_split(features, target, random_state=42, test_size=0.2)"
   ]
  },
  {
   "cell_type": "markdown",
   "metadata": {},
   "source": [
    "# Undersampling"
   ]
  },
  {
   "cell_type": "code",
   "execution_count": 38,
   "metadata": {},
   "outputs": [
    {
     "name": "stdout",
     "output_type": "stream",
     "text": [
      "Distribusi kelas setelah undersampling: [452147 452147]\n"
     ]
    }
   ],
   "source": [
    "from imblearn.under_sampling import RandomUnderSampler\n",
    "\n",
    "# Undersampling\n",
    "undersample = RandomUnderSampler(random_state=42)\n",
    "X_train_resampled, y_train_resampled = undersample.fit_resample(x_train, y_train)\n",
    "\n",
    "# Cek distribusi setelah undersampling\n",
    "print(\"Distribusi kelas setelah undersampling:\", np.bincount(y_train_resampled))"
   ]
  },
  {
   "cell_type": "code",
   "execution_count": 39,
   "metadata": {},
   "outputs": [
    {
     "name": "stdout",
     "output_type": "stream",
     "text": [
      "Distribusi kelas setelah undersampling: [452147 452147]\n"
     ]
    }
   ],
   "source": [
    "# Cek distribusi setelah undersampling\n",
    "print(\"Distribusi kelas setelah undersampling:\", np.bincount(y_train_resampled))"
   ]
  },
  {
   "cell_type": "markdown",
   "metadata": {},
   "source": [
    "# Normalisasi"
   ]
  },
  {
   "cell_type": "code",
   "execution_count": 40,
   "metadata": {},
   "outputs": [],
   "source": [
    "from sklearn.preprocessing import MinMaxScaler\n",
    "\n",
    "# Normalisasi Data\n",
    "scaler = MinMaxScaler()\n",
    "X_train_scaled = scaler.fit_transform(X_train_resampled)\n",
    "X_test_scaled = scaler.transform(x_test)"
   ]
  },
  {
   "cell_type": "markdown",
   "metadata": {
    "id": "1in8r2Lgfnvu"
   },
   "source": [
    "# Model Training"
   ]
  },
  {
   "cell_type": "markdown",
   "metadata": {},
   "source": [
    "## library"
   ]
  },
  {
   "cell_type": "code",
   "execution_count": 41,
   "metadata": {},
   "outputs": [],
   "source": [
    "from sklearn.neighbors import KNeighborsClassifier\n",
    "from sklearn.ensemble import StackingClassifier\n",
    "from sklearn.ensemble import GradientBoostingClassifier\n",
    "from sklearn.ensemble import AdaBoostClassifier\n",
    "\n",
    "from sklearn.linear_model import LogisticRegression\n",
    "from sklearn.tree import DecisionTreeClassifier\n",
    "from sklearn.ensemble import StackingClassifier, RandomForestClassifier, GradientBoostingClassifier,ExtraTreesClassifier, AdaBoostClassifier, VotingClassifier, BaggingClassifier\n",
    "from xgboost import XGBClassifier\n",
    "from lightgbm import LGBMClassifier\n",
    "#from catboost import CatBoostClassifier\n",
    "from sklearn.ensemble import HistGradientBoostingClassifier, VotingClassifier\n",
    "from sklearn.neural_network import MLPClassifier"
   ]
  },
  {
   "cell_type": "markdown",
   "metadata": {},
   "source": [
    "## Decision Tree"
   ]
  },
  {
   "cell_type": "code",
   "execution_count": 69,
   "metadata": {},
   "outputs": [
    {
     "name": "stdout",
     "output_type": "stream",
     "text": [
      "\n",
      "Decision Tree Accuracy: 78.61%\n",
      "\n",
      "Classification Report:\n",
      "              precision    recall  f1-score   support\n",
      "\n",
      "           0       0.88      0.80      0.84    233262\n",
      "           1       0.63      0.76      0.69    105727\n",
      "\n",
      "    accuracy                           0.79    338989\n",
      "   macro avg       0.76      0.78      0.76    338989\n",
      "weighted avg       0.80      0.79      0.79    338989\n",
      "\n",
      "\n",
      "Confusion Matrix:\n",
      "[[185617  47645]\n",
      " [ 24851  80876]]\n"
     ]
    }
   ],
   "source": [
    "from sklearn.tree import DecisionTreeClassifier\n",
    "from sklearn.metrics import classification_report, confusion_matrix, accuracy_score\n",
    "\n",
    "# Inisialisasi model Decision Tree\n",
    "model_dt = DecisionTreeClassifier(criterion=\"gini\", max_depth=5, random_state=42)\n",
    "\n",
    "# Melatih model\n",
    "model_dt.fit(X_train_scaled, y_train_resampled)\n",
    "\n",
    "# Prediksi terhadap data uji\n",
    "y_pred_dt = model_dt.predict(X_test_scaled)\n",
    "\n",
    "# Evaluasi Model\n",
    "accuracy_dt = accuracy_score(y_test, y_pred_dt)\n",
    "print(f\"\\nDecision Tree Accuracy: {accuracy_dt:.2%}\")\n",
    "\n",
    "print(\"\\nClassification Report:\")\n",
    "print(classification_report(y_test, y_pred_dt))\n",
    "\n",
    "print(\"\\nConfusion Matrix:\")\n",
    "print(confusion_matrix(y_test, y_pred_dt))\n"
   ]
  },
  {
   "cell_type": "markdown",
   "metadata": {},
   "source": [
    "## Random Forest"
   ]
  },
  {
   "cell_type": "code",
   "execution_count": 42,
   "metadata": {},
   "outputs": [
    {
     "name": "stdout",
     "output_type": "stream",
     "text": [
      "\n",
      "Random Forest Accuracy: 93.92%\n",
      "\n",
      "Classification Report:\n",
      "              precision    recall  f1-score   support\n",
      "\n",
      "           0       0.97      0.94      0.95    243886\n",
      "           1       0.88      0.94      0.91    113031\n",
      "\n",
      "    accuracy                           0.94    356917\n",
      "   macro avg       0.92      0.94      0.93    356917\n",
      "weighted avg       0.94      0.94      0.94    356917\n",
      "\n",
      "\n",
      "Confusion Matrix:\n",
      "[[228909  14977]\n",
      " [  6728 106303]]\n"
     ]
    }
   ],
   "source": [
    "from sklearn.ensemble import RandomForestClassifier\n",
    "from sklearn.metrics import classification_report, confusion_matrix, accuracy_score\n",
    "\n",
    "model_rf = RandomForestClassifier(n_estimators=50, random_state=42)\n",
    "model_rf.fit(X_train_scaled, y_train_resampled)\n",
    "\n",
    "# Prediksi terhadap Data Uji\n",
    "y_pred_rf = model_rf.predict(X_test_scaled)\n",
    "\n",
    "# Evaluasi Model\n",
    "accuracy_rf = accuracy_score(y_test, y_pred_rf)\n",
    "print(f\"\\nRandom Forest Accuracy: {accuracy_rf:.2%}\")\n",
    "\n",
    "print(\"\\nClassification Report:\")\n",
    "print(classification_report(y_test, y_pred_rf))\n",
    "\n",
    "print(\"\\nConfusion Matrix:\")\n",
    "print(confusion_matrix(y_test, y_pred_rf))"
   ]
  },
  {
   "cell_type": "markdown",
   "metadata": {},
   "source": [
    "## ExtraTreesClassifier"
   ]
  },
  {
   "cell_type": "code",
   "execution_count": 36,
   "metadata": {},
   "outputs": [
    {
     "name": "stdout",
     "output_type": "stream",
     "text": [
      "Extra Trees Accuracy: 92.77%\n",
      "\n",
      "Classification Report:\n",
      "              precision    recall  f1-score   support\n",
      "\n",
      "           0       0.97      0.92      0.95    233262\n",
      "           1       0.85      0.94      0.89    105727\n",
      "\n",
      "    accuracy                           0.93    338989\n",
      "   macro avg       0.91      0.93      0.92    338989\n",
      "weighted avg       0.93      0.93      0.93    338989\n",
      "\n",
      "\n",
      "Confusion Matrix:\n",
      "[[215420  17842]\n",
      " [  6677  99050]]\n"
     ]
    }
   ],
   "source": [
    "from sklearn.ensemble import ExtraTreesClassifier\n",
    "\n",
    "# Inisialisasi dan latih model Extra Trees\n",
    "model_et = ExtraTreesClassifier(\n",
    "    n_estimators=50, \n",
    "    max_depth=None,\n",
    "    min_samples_split=5,\n",
    "    min_samples_leaf=2,\n",
    "    max_features='sqrt',\n",
    "    random_state=42\n",
    ")\n",
    "\n",
    "# Gunakan data yang sudah diresample & dinormalisasi untuk pelatihan\n",
    "model_et.fit(X_train_scaled, y_train_resampled)\n",
    "\n",
    "# Prediksi terhadap data uji yang sudah dinormalisasi\n",
    "y_pred_et = model_et.predict(X_test_scaled)\n",
    "\n",
    "# Hitung akurasi\n",
    "accuracy_et = accuracy_score(y_test, y_pred_et)\n",
    "print(f\"Extra Trees Accuracy: {accuracy_et:.2%}\")\n",
    "\n",
    "# Tampilkan classification report\n",
    "print(\"\\nClassification Report:\")\n",
    "print(classification_report(y_test, y_pred_et))\n",
    "\n",
    "# Tampilkan confusion matrix\n",
    "print(\"\\nConfusion Matrix:\")\n",
    "print(confusion_matrix(y_test, y_pred_et))\n"
   ]
  },
  {
   "cell_type": "markdown",
   "metadata": {},
   "source": [
    "## GradientBoostingClassifier"
   ]
  },
  {
   "cell_type": "code",
   "execution_count": 37,
   "metadata": {},
   "outputs": [
    {
     "name": "stdout",
     "output_type": "stream",
     "text": [
      "Gradient Boosting Accuracy: 77.63%\n",
      "\n",
      "Classification Report:\n",
      "              precision    recall  f1-score   support\n",
      "\n",
      "           0       0.88      0.78      0.83    233262\n",
      "           1       0.61      0.76      0.68    105727\n",
      "\n",
      "    accuracy                           0.78    338989\n",
      "   macro avg       0.75      0.77      0.75    338989\n",
      "weighted avg       0.80      0.78      0.78    338989\n",
      "\n",
      "\n",
      "Confusion Matrix:\n",
      "[[182706  50556]\n",
      " [ 25259  80468]]\n"
     ]
    }
   ],
   "source": [
    "from sklearn.ensemble import GradientBoostingClassifier\n",
    "\n",
    "# Inisialisasi dan latih model Gradient Boosting\n",
    "model_gb = GradientBoostingClassifier(\n",
    "    n_estimators=50, \n",
    "    learning_rate=1.0, \n",
    "    max_depth=1, \n",
    "    random_state=0\n",
    ")\n",
    "\n",
    "# Gunakan data yang sudah diresample & dinormalisasi untuk pelatihan\n",
    "model_gb.fit(X_train_scaled, y_train_resampled)\n",
    "\n",
    "# Prediksi terhadap data uji yang sudah dinormalisasi\n",
    "y_pred_gb = model_gb.predict(X_test_scaled)\n",
    "\n",
    "# Hitung akurasi\n",
    "accuracy_gb = accuracy_score(y_test, y_pred_gb)\n",
    "print(f\"Gradient Boosting Accuracy: {accuracy_gb:.2%}\")\n",
    "\n",
    "# Tampilkan classification report\n",
    "print(\"\\nClassification Report:\")\n",
    "print(classification_report(y_test, y_pred_gb))\n",
    "\n",
    "# Tampilkan confusion matrix\n",
    "print(\"\\nConfusion Matrix:\")\n",
    "print(confusion_matrix(y_test, y_pred_gb))\n"
   ]
  },
  {
   "cell_type": "markdown",
   "metadata": {},
   "source": [
    "## AdaBoostClassifier"
   ]
  },
  {
   "cell_type": "code",
   "execution_count": 39,
   "metadata": {},
   "outputs": [
    {
     "name": "stdout",
     "output_type": "stream",
     "text": [
      "AdaBoost Accuracy: 76.82%\n",
      "\n",
      "Classification Report:\n",
      "              precision    recall  f1-score   support\n",
      "\n",
      "           0       0.87      0.78      0.82    233262\n",
      "           1       0.60      0.74      0.67    105727\n",
      "\n",
      "    accuracy                           0.77    338989\n",
      "   macro avg       0.74      0.76      0.74    338989\n",
      "weighted avg       0.79      0.77      0.77    338989\n",
      "\n",
      "\n",
      "Confusion Matrix:\n",
      "[[182144  51118]\n",
      " [ 27467  78260]]\n"
     ]
    }
   ],
   "source": [
    "from sklearn.ensemble import AdaBoostClassifier\n",
    "\n",
    "# Inisialisasi dan latih model AdaBoost\n",
    "model_ab = AdaBoostClassifier(n_estimators=50, random_state=0)\n",
    "model_ab.fit(X_train_scaled, y_train_resampled)  # Gunakan data yang sudah diresample & dinormalisasi\n",
    "\n",
    "# Prediksi terhadap data uji yang sudah dinormalisasi\n",
    "y_pred_ab = model_ab.predict(X_test_scaled)\n",
    "\n",
    "# Hitung akurasi\n",
    "accuracy_ab = accuracy_score(y_test, y_pred_ab)\n",
    "print(f\"AdaBoost Accuracy: {accuracy_ab:.2%}\")\n",
    "\n",
    "# Tampilkan classification report\n",
    "print(\"\\nClassification Report:\")\n",
    "print(classification_report(y_test, y_pred_ab))\n",
    "\n",
    "# Tampilkan confusion matrix\n",
    "print(\"\\nConfusion Matrix:\")\n",
    "print(confusion_matrix(y_test, y_pred_ab))\n"
   ]
  },
  {
   "cell_type": "markdown",
   "metadata": {},
   "source": [
    "## XGBClassifier"
   ]
  },
  {
   "cell_type": "code",
   "execution_count": 40,
   "metadata": {},
   "outputs": [
    {
     "name": "stdout",
     "output_type": "stream",
     "text": [
      "XGBoost Accuracy: 79.24%\n",
      "\n",
      "Classification Report:\n",
      "              precision    recall  f1-score   support\n",
      "\n",
      "           0       0.91      0.78      0.84    233262\n",
      "           1       0.63      0.82      0.71    105727\n",
      "\n",
      "    accuracy                           0.79    338989\n",
      "   macro avg       0.77      0.80      0.77    338989\n",
      "weighted avg       0.82      0.79      0.80    338989\n",
      "\n",
      "\n",
      "Confusion Matrix:\n",
      "[[181634  51628]\n",
      " [ 18753  86974]]\n"
     ]
    }
   ],
   "source": [
    "from xgboost import XGBClassifier\n",
    "\n",
    "# Inisialisasi dan latih model XGBoost\n",
    "model_xgb = XGBClassifier(\n",
    "    objective='binary:logistic', \n",
    "    learning_rate=0.1, \n",
    "    max_depth=5, \n",
    "    n_estimators=50, \n",
    "    seed=42\n",
    ")\n",
    "\n",
    "model_xgb.fit(X_train_scaled, y_train_resampled)  # Gunakan data yang sudah di-resample & dinormalisasi\n",
    "\n",
    "# Prediksi terhadap data uji yang sudah dinormalisasi\n",
    "y_pred_xgb = model_xgb.predict(X_test_scaled)\n",
    "\n",
    "# Hitung akurasi\n",
    "accuracy_xgb = accuracy_score(y_test, y_pred_xgb)\n",
    "print(f\"XGBoost Accuracy: {accuracy_xgb:.2%}\")\n",
    "\n",
    "# Tampilkan classification report\n",
    "print(\"\\nClassification Report:\")\n",
    "print(classification_report(y_test, y_pred_xgb))\n",
    "\n",
    "# Tampilkan confusion matrix\n",
    "print(\"\\nConfusion Matrix:\")\n",
    "print(confusion_matrix(y_test, y_pred_xgb))\n"
   ]
  },
  {
   "cell_type": "markdown",
   "metadata": {},
   "source": [
    "## LGBMClassifier"
   ]
  },
  {
   "cell_type": "code",
   "execution_count": 41,
   "metadata": {},
   "outputs": [
    {
     "name": "stdout",
     "output_type": "stream",
     "text": [
      "[LightGBM] [Info] Number of positive: 425020, number of negative: 425020\n",
      "[LightGBM] [Info] Auto-choosing row-wise multi-threading, the overhead of testing was 0.093497 seconds.\n",
      "You can set `force_row_wise=true` to remove the overhead.\n",
      "And if memory is not enough, you can set `force_col_wise=true`.\n",
      "[LightGBM] [Info] Total Bins 896\n",
      "[LightGBM] [Info] Number of data points in the train set: 850040, number of used features: 11\n",
      "[LightGBM] [Info] [binary:BoostFromScore]: pavg=0.500000 -> initscore=0.000000\n"
     ]
    },
    {
     "name": "stderr",
     "output_type": "stream",
     "text": [
      "c:\\Users\\Imam Bari Setiawan\\AppData\\Local\\Programs\\Python\\Python310\\lib\\site-packages\\sklearn\\utils\\validation.py:2739: UserWarning: X does not have valid feature names, but LGBMClassifier was fitted with feature names\n",
      "  warnings.warn(\n"
     ]
    },
    {
     "name": "stdout",
     "output_type": "stream",
     "text": [
      "LightGBM Accuracy: 79.92%\n",
      "\n",
      "Classification Report:\n",
      "              precision    recall  f1-score   support\n",
      "\n",
      "           0       0.92      0.78      0.84    233262\n",
      "           1       0.63      0.84      0.72    105727\n",
      "\n",
      "    accuracy                           0.80    338989\n",
      "   macro avg       0.78      0.81      0.78    338989\n",
      "weighted avg       0.83      0.80      0.81    338989\n",
      "\n",
      "\n",
      "Confusion Matrix:\n",
      "[[181834  51428]\n",
      " [ 16626  89101]]\n"
     ]
    }
   ],
   "source": [
    "from lightgbm import LGBMClassifier\n",
    "\n",
    "# Inisialisasi dan latih model LightGBM\n",
    "model_lgbm = LGBMClassifier(n_estimators=50, learning_rate=0.1, random_state=42)\n",
    "model_lgbm.fit(X_train_scaled, y_train_resampled)  # Gunakan data yang sudah di-resample & dinormalisasi\n",
    "\n",
    "# Prediksi terhadap data uji yang sudah dinormalisasi\n",
    "y_pred_lgbm = model_lgbm.predict(X_test_scaled)\n",
    "\n",
    "# Hitung akurasi\n",
    "accuracy_lgbm = accuracy_score(y_test, y_pred_lgbm)\n",
    "print(f\"LightGBM Accuracy: {accuracy_lgbm:.2%}\")\n",
    "\n",
    "# Tampilkan classification report\n",
    "print(\"\\nClassification Report:\")\n",
    "print(classification_report(y_test, y_pred_lgbm))\n",
    "\n",
    "# Tampilkan confusion matrix\n",
    "print(\"\\nConfusion Matrix:\")\n",
    "print(confusion_matrix(y_test, y_pred_lgbm))\n"
   ]
  },
  {
   "cell_type": "markdown",
   "metadata": {},
   "source": [
    "## HistGradientBoostingClassifier"
   ]
  },
  {
   "cell_type": "code",
   "execution_count": 42,
   "metadata": {},
   "outputs": [
    {
     "name": "stdout",
     "output_type": "stream",
     "text": [
      "HistGradientBoosting Accuracy: 79.81%\n",
      "\n",
      "Classification Report:\n",
      "              precision    recall  f1-score   support\n",
      "\n",
      "           0       0.92      0.78      0.84    233262\n",
      "           1       0.63      0.84      0.72    105727\n",
      "\n",
      "    accuracy                           0.80    338989\n",
      "   macro avg       0.77      0.81      0.78    338989\n",
      "weighted avg       0.83      0.80      0.80    338989\n",
      "\n",
      "\n",
      "Confusion Matrix:\n",
      "[[181672  51590]\n",
      " [ 16836  88891]]\n"
     ]
    }
   ],
   "source": [
    "from sklearn.ensemble import HistGradientBoostingClassifier\n",
    "\n",
    "# Inisialisasi dan latih model HistGradientBoosting\n",
    "model_hgb = HistGradientBoostingClassifier(max_iter=50, random_state=42)\n",
    "model_hgb.fit(X_train_scaled, y_train_resampled)  # Gunakan data hasil resampling & normalisasi\n",
    "\n",
    "# Prediksi terhadap data uji yang sudah dinormalisasi\n",
    "y_pred_hgb = model_hgb.predict(X_test_scaled)\n",
    "\n",
    "# Hitung akurasi\n",
    "accuracy_hgb = accuracy_score(y_test, y_pred_hgb)\n",
    "print(f\"HistGradientBoosting Accuracy: {accuracy_hgb:.2%}\")\n",
    "\n",
    "# Tampilkan classification report\n",
    "print(\"\\nClassification Report:\")\n",
    "print(classification_report(y_test, y_pred_hgb))\n",
    "\n",
    "# Tampilkan confusion matrix\n",
    "print(\"\\nConfusion Matrix:\")\n",
    "print(confusion_matrix(y_test, y_pred_hgb))"
   ]
  },
  {
   "cell_type": "markdown",
   "metadata": {},
   "source": [
    "## MLPClassifier"
   ]
  },
  {
   "cell_type": "code",
   "execution_count": null,
   "metadata": {},
   "outputs": [
    {
     "name": "stdout",
     "output_type": "stream",
     "text": [
      "MLPClassifier Accuracy: 81.06%\n",
      "\n",
      "Classification Report:\n",
      "              precision    recall  f1-score   support\n",
      "\n",
      "           0       0.92      0.80      0.85    239162\n",
      "           1       0.65      0.84      0.73    105981\n",
      "\n",
      "    accuracy                           0.81    345143\n",
      "   macro avg       0.78      0.82      0.79    345143\n",
      "weighted avg       0.84      0.81      0.82    345143\n",
      "\n",
      "\n",
      "Confusion Matrix:\n",
      "[[190452  48710]\n",
      " [ 16652  89329]]\n"
     ]
    }
   ],
   "source": [
    "from sklearn.neural_network import MLPClassifier\n",
    "\n",
    "# Inisialisasi dan latih model MLP\n",
    "model_mlp = MLPClassifier(hidden_layer_sizes=(100,), max_iter=300, random_state=42)\n",
    "model_mlp.fit(X_train_scaled, y_train_resampled)  # Gunakan data hasil resampling & normalisasi\n",
    "\n",
    "# Prediksi terhadap data uji yang sudah dinormalisasi\n",
    "y_pred_mlp = model_mlp.predict(X_test_scaled)\n",
    "\n",
    "# Hitung akurasi\n",
    "accuracy_mlp = accuracy_score(y_test, y_pred_mlp)\n",
    "print(f\"MLPClassifier Accuracy: {accuracy_mlp:.2%}\")\n",
    "\n",
    "# Tampilkan classification report\n",
    "print(\"\\nClassification Report:\")\n",
    "print(classification_report(y_test, y_pred_mlp))\n",
    "\n",
    "# Tampilkan confusion matrix\n",
    "print(\"\\nConfusion Matrix:\")\n",
    "print(confusion_matrix(y_test, y_pred_mlp))\n"
   ]
  },
  {
   "cell_type": "markdown",
   "metadata": {},
   "source": [
    "## VotingClassifier"
   ]
  },
  {
   "cell_type": "code",
   "execution_count": 43,
   "metadata": {},
   "outputs": [
    {
     "name": "stderr",
     "output_type": "stream",
     "text": [
      "c:\\Users\\Imam Bari Setiawan\\AppData\\Local\\Programs\\Python\\Python310\\lib\\site-packages\\sklearn\\experimental\\enable_hist_gradient_boosting.py:19: UserWarning: Since version 1.0, it is not needed to import enable_hist_gradient_boosting anymore. HistGradientBoostingClassifier and HistGradientBoostingRegressor are now stable and can be normally imported from sklearn.ensemble.\n",
      "  warnings.warn(\n"
     ]
    },
    {
     "name": "stdout",
     "output_type": "stream",
     "text": [
      "VotingClassifier Accuracy: 92.79%\n",
      "\n",
      "Classification Report:\n",
      "              precision    recall  f1-score   support\n",
      "\n",
      "           0       0.97      0.92      0.95    233262\n",
      "           1       0.85      0.94      0.89    105727\n",
      "\n",
      "    accuracy                           0.93    338989\n",
      "   macro avg       0.91      0.93      0.92    338989\n",
      "weighted avg       0.93      0.93      0.93    338989\n",
      "\n",
      "\n",
      "Confusion Matrix:\n",
      "[[215588  17674]\n",
      " [  6775  98952]]\n"
     ]
    }
   ],
   "source": [
    "from sklearn.ensemble import VotingClassifier, ExtraTreesClassifier, RandomForestClassifier\n",
    "from sklearn.experimental import enable_hist_gradient_boosting\n",
    "from sklearn.ensemble import HistGradientBoostingClassifier\n",
    "\n",
    "# Inisialisasi dan latih model VotingClassifier\n",
    "model_vot = VotingClassifier(\n",
    "    estimators=[\n",
    "        ('et', ExtraTreesClassifier(n_estimators=50, max_depth=None, min_samples_split=5, min_samples_leaf=2, max_features='sqrt', random_state=42)),\n",
    "        ('rf', RandomForestClassifier(n_estimators=50, random_state=42)),\n",
    "        ('hgb', HistGradientBoostingClassifier(max_iter=50, random_state=42))\n",
    "    ],\n",
    "    voting='hard'  # Ubah menjadi 'hard' karena HGB tidak support predict_proba\n",
    ")\n",
    "\n",
    "model_vot.fit(X_train_scaled, y_train_resampled)\n",
    "\n",
    "# Prediksi terhadap data uji yang sudah dinormalisasi\n",
    "y_pred_vot = model_vot.predict(X_test_scaled)\n",
    "\n",
    "# Hitung akurasi\n",
    "accuracy_vot = accuracy_score(y_test, y_pred_vot)\n",
    "print(f\"VotingClassifier Accuracy: {accuracy_vot:.2%}\")\n",
    "\n",
    "# Tampilkan classification report\n",
    "print(\"\\nClassification Report:\")\n",
    "print(classification_report(y_test, y_pred_vot))\n",
    "\n",
    "# Tampilkan confusion matrix\n",
    "print(\"\\nConfusion Matrix:\")\n",
    "print(confusion_matrix(y_test, y_pred_vot))\n"
   ]
  },
  {
   "cell_type": "markdown",
   "metadata": {},
   "source": [
    "## StackingClassifier"
   ]
  },
  {
   "cell_type": "code",
   "execution_count": 58,
   "metadata": {},
   "outputs": [
    {
     "name": "stdout",
     "output_type": "stream",
     "text": [
      "StackingClassifier Accuracy: 93.62%\n",
      "\n",
      "Classification Report:\n",
      "              precision    recall  f1-score   support\n",
      "\n",
      "           0       0.97      0.93      0.95    233262\n",
      "           1       0.87      0.94      0.90    105727\n",
      "\n",
      "    accuracy                           0.94    338989\n",
      "   macro avg       0.92      0.94      0.93    338989\n",
      "weighted avg       0.94      0.94      0.94    338989\n",
      "\n",
      "\n",
      "Confusion Matrix:\n",
      "[[217969  15293]\n",
      " [  6327  99400]]\n"
     ]
    }
   ],
   "source": [
    "from sklearn.ensemble import StackingClassifier, ExtraTreesClassifier, RandomForestClassifier, HistGradientBoostingClassifier\n",
    "from sklearn.linear_model import LogisticRegression\n",
    "\n",
    "base_models = [\n",
    "    ('et', ExtraTreesClassifier(n_estimators=50, max_depth=None, min_samples_split=5, min_samples_leaf=2, max_features='sqrt', random_state=42)),\n",
    "    ('hgb', HistGradientBoostingClassifier(max_iter=50, random_state=42)),  # Tetap mempertahankan model boosting\n",
    "    ('xgb', XGBClassifier(n_estimators=50, learning_rate=0.1, max_depth=5, random_state=42))  # Ganti RF dengan XGBoost\n",
    "]\n",
    "\n",
    "# Stacking classifier dengan Logistic Regression sebagai meta-model\n",
    "stacking_model = StackingClassifier(\n",
    "    estimators=base_models, \n",
    "    final_estimator=LogisticRegression(), \n",
    "    passthrough=True\n",
    ")\n",
    "\n",
    "# Latih model Stacking\n",
    "stacking_model.fit(X_train_scaled, y_train_resampled)\n",
    "\n",
    "# Prediksi terhadap data uji\n",
    "y_pred_stacking = stacking_model.predict(X_test_scaled)\n",
    "\n",
    "# Evaluasi model\n",
    "accuracy_stacking = accuracy_score(y_test, y_pred_stacking)\n",
    "print(f\"StackingClassifier Accuracy: {accuracy_stacking:.2%}\")\n",
    "\n",
    "print(\"\\nClassification Report:\")\n",
    "print(classification_report(y_test, y_pred_stacking))\n",
    "\n",
    "print(\"\\nConfusion Matrix:\")\n",
    "print(confusion_matrix(y_test, y_pred_stacking))\n"
   ]
  },
  {
   "cell_type": "markdown",
   "metadata": {},
   "source": [
    "## Naive Bayes"
   ]
  },
  {
   "cell_type": "code",
   "execution_count": 44,
   "metadata": {},
   "outputs": [
    {
     "name": "stdout",
     "output_type": "stream",
     "text": [
      "Naïve Bayes Accuracy: 74.56%\n",
      "\n",
      "Classification Report:\n",
      "              precision    recall  f1-score   support\n",
      "\n",
      "           0       0.86      0.76      0.80    233262\n",
      "           1       0.57      0.72      0.64    105727\n",
      "\n",
      "    accuracy                           0.75    338989\n",
      "   macro avg       0.72      0.74      0.72    338989\n",
      "weighted avg       0.77      0.75      0.75    338989\n",
      "\n",
      "\n",
      "Confusion Matrix:\n",
      "[[176471  56791]\n",
      " [ 29445  76282]]\n"
     ]
    }
   ],
   "source": [
    "from sklearn.naive_bayes import GaussianNB\n",
    "\n",
    "# Inisialisasi dan latih model Naïve Bayes\n",
    "model_nb = GaussianNB()\n",
    "model_nb.fit(X_train_scaled, y_train_resampled)\n",
    "\n",
    "# Prediksi terhadap data uji yang sudah dinormalisasi\n",
    "y_pred_nb = model_nb.predict(X_test_scaled)\n",
    "\n",
    "# Hitung akurasi\n",
    "accuracy_nb = accuracy_score(y_test, y_pred_nb)\n",
    "print(f\"Naïve Bayes Accuracy: {accuracy_nb:.2%}\")\n",
    "\n",
    "# Tampilkan classification report\n",
    "print(\"\\nClassification Report:\")\n",
    "print(classification_report(y_test, y_pred_nb))\n",
    "\n",
    "# Tampilkan confusion matrix\n",
    "print(\"\\nConfusion Matrix:\")\n",
    "print(confusion_matrix(y_test, y_pred_nb))\n"
   ]
  },
  {
   "cell_type": "markdown",
   "metadata": {},
   "source": [
    "## KNeighborsClassifier"
   ]
  },
  {
   "cell_type": "code",
   "execution_count": 35,
   "metadata": {},
   "outputs": [
    {
     "name": "stdout",
     "output_type": "stream",
     "text": [
      "KNN Accuracy: 92.46%\n",
      "\n",
      "Classification Report:\n",
      "              precision    recall  f1-score   support\n",
      "\n",
      "           0       0.96      0.93      0.94    233262\n",
      "           1       0.85      0.92      0.88    105727\n",
      "\n",
      "    accuracy                           0.92    338989\n",
      "   macro avg       0.91      0.92      0.91    338989\n",
      "weighted avg       0.93      0.92      0.93    338989\n",
      "\n",
      "\n",
      "Confusion Matrix:\n",
      "[[215903  17359]\n",
      " [  8215  97512]]\n"
     ]
    }
   ],
   "source": [
    "from sklearn.neighbors import KNeighborsClassifier\n",
    "\n",
    "# Inisialisasi dan latih model KNN dengan 7 tetangga (nilai optimal dapat diuji lebih lanjut)\n",
    "model_knn = KNeighborsClassifier(n_neighbors=10)\n",
    "model_knn.fit(X_train_scaled, y_train_resampled)\n",
    "\n",
    "# Prediksi terhadap data uji yang sudah dinormalisasi\n",
    "y_pred_knn = model_knn.predict(X_test_scaled)\n",
    "\n",
    "# Hitung akurasi\n",
    "accuracy_knn = accuracy_score(y_test, y_pred_knn)\n",
    "print(f\"KNN Accuracy: {accuracy_knn:.2%}\")\n",
    "\n",
    "# Tampilkan classification report\n",
    "print(\"\\nClassification Report:\")\n",
    "print(classification_report(y_test, y_pred_knn))\n",
    "\n",
    "# Tampilkan confusion matrix\n",
    "print(\"\\nConfusion Matrix:\")\n",
    "print(confusion_matrix(y_test, y_pred_knn))\n"
   ]
  },
  {
   "cell_type": "markdown",
   "metadata": {},
   "source": [
    "## StackingClassifier2"
   ]
  },
  {
   "cell_type": "code",
   "execution_count": 35,
   "metadata": {},
   "outputs": [
    {
     "name": "stdout",
     "output_type": "stream",
     "text": [
      "StackingClassifier Accuracy: 94.09%\n",
      "\n",
      "Classification Report:\n",
      "              precision    recall  f1-score   support\n",
      "\n",
      "           0       0.97      0.94      0.96    233262\n",
      "           1       0.87      0.95      0.91    105727\n",
      "\n",
      "    accuracy                           0.94    338989\n",
      "   macro avg       0.92      0.94      0.93    338989\n",
      "weighted avg       0.94      0.94      0.94    338989\n",
      "\n",
      "\n",
      "Confusion Matrix:\n",
      "[[218945  14317]\n",
      " [  5728  99999]]\n"
     ]
    }
   ],
   "source": [
    "from sklearn.ensemble import StackingClassifier, ExtraTreesClassifier, RandomForestClassifier\n",
    "from sklearn.neighbors import KNeighborsClassifier\n",
    "from sklearn.linear_model import LogisticRegression\n",
    "from sklearn.metrics import accuracy_score, classification_report, confusion_matrix\n",
    "\n",
    "# Definisi base models\n",
    "base_models = [\n",
    "    ('rf', RandomForestClassifier(n_estimators=100, max_depth=None, min_samples_split=5, min_samples_leaf=2, random_state=42)),\n",
    "    ('et', ExtraTreesClassifier(n_estimators=100, max_depth=None, min_samples_split=5, min_samples_leaf=2, random_state=42)),\n",
    "    ('knn', KNeighborsClassifier(n_neighbors=10))\n",
    "]\n",
    "\n",
    "# Stacking classifier dengan Logistic Regression sebagai meta-model\n",
    "stacking_model = StackingClassifier(\n",
    "    estimators=base_models,\n",
    "    final_estimator=LogisticRegression(), \n",
    "    passthrough=True\n",
    ")\n",
    "\n",
    "# Latih model Stacking\n",
    "stacking_model.fit(X_train_scaled, y_train_resampled)\n",
    "\n",
    "# Prediksi terhadap data uji\n",
    "y_pred_stacking = stacking_model.predict(X_test_scaled)\n",
    "\n",
    "# Evaluasi model\n",
    "accuracy_stacking = accuracy_score(y_test, y_pred_stacking)\n",
    "print(f\"StackingClassifier Accuracy: {accuracy_stacking:.2%}\")\n",
    "\n",
    "print(\"\\nClassification Report:\")\n",
    "print(classification_report(y_test, y_pred_stacking))\n",
    "\n",
    "print(\"\\nConfusion Matrix:\")\n",
    "print(confusion_matrix(y_test, y_pred_stacking))"
   ]
  },
  {
   "cell_type": "code",
   "execution_count": 36,
   "metadata": {},
   "outputs": [
    {
     "name": "stdout",
     "output_type": "stream",
     "text": [
      "StackingClassifier Accuracy: 94.09%\n",
      "\n",
      "Classification Report:\n",
      "              precision    recall  f1-score   support\n",
      "\n",
      "           0       0.97      0.94      0.95    233262\n",
      "           1       0.87      0.94      0.91    105727\n",
      "\n",
      "    accuracy                           0.94    338989\n",
      "   macro avg       0.92      0.94      0.93    338989\n",
      "weighted avg       0.94      0.94      0.94    338989\n",
      "\n",
      "\n",
      "Confusion Matrix:\n",
      "[[218734  14528]\n",
      " [  6122  99605]]\n"
     ]
    }
   ],
   "source": [
    "from sklearn.ensemble import StackingClassifier, RandomForestClassifier, GradientBoostingClassifier\n",
    "from sklearn.linear_model import LogisticRegression\n",
    "from xgboost import XGBClassifier\n",
    "from sklearn.metrics import classification_report, confusion_matrix, accuracy_score\n",
    "\n",
    "# Base models\n",
    "base_models = [\n",
    "    ('rf', RandomForestClassifier(n_estimators=100, random_state=42)),\n",
    "    ('gb', GradientBoostingClassifier(n_estimators=100, learning_rate=0.1, random_state=42)),\n",
    "    ('xgb', XGBClassifier(n_estimators=100, learning_rate=0.1, random_state=42))\n",
    "]\n",
    "\n",
    "# Stacking classifier dengan Logistic Regression sebagai meta-classifier\n",
    "stack_model = StackingClassifier(\n",
    "    estimators=base_models,\n",
    "    final_estimator=LogisticRegression(),\n",
    "    passthrough=True\n",
    ")\n",
    "\n",
    "# Latih model Stacking\n",
    "stack_model.fit(X_train_scaled, y_train_resampled)\n",
    "\n",
    "# Prediksi terhadap data uji\n",
    "y_pred_stack = stack_model.predict(X_test_scaled)\n",
    "\n",
    "# Evaluasi model\n",
    "accuracy_stack = accuracy_score(y_test, y_pred_stacking)\n",
    "print(f\"StackingClassifier Accuracy: {accuracy_stack:.2%}\")\n",
    "\n",
    "print(\"\\nClassification Report:\")\n",
    "print(classification_report(y_test, y_pred_stack))\n",
    "\n",
    "print(\"\\nConfusion Matrix:\")\n",
    "print(confusion_matrix(y_test, y_pred_stack))"
   ]
  },
  {
   "cell_type": "markdown",
   "metadata": {},
   "source": [
    "## Deep Learning"
   ]
  },
  {
   "cell_type": "code",
   "execution_count": 42,
   "metadata": {},
   "outputs": [],
   "source": [
    "import numpy as np\n",
    "import tensorflow as tf\n",
    "from tensorflow import keras\n",
    "from tensorflow.keras.models import Sequential\n",
    "from tensorflow.keras.layers import Dense, Dropout\n",
    "from tensorflow.keras.optimizers import Adam\n",
    "from sklearn.preprocessing import StandardScaler\n",
    "from sklearn.model_selection import train_test_split\n",
    "\n",
    "import numpy as np\n",
    "import pandas as pd\n",
    "from sklearn.ensemble import RandomForestClassifier\n",
    "from xgboost import XGBClassifier\n",
    "from sklearn.model_selection import train_test_split\n",
    "from sklearn.preprocessing import StandardScaler\n",
    "from sklearn.metrics import accuracy_score\n",
    "from sklearn.linear_model import LogisticRegression\n",
    "from sklearn.pipeline import make_pipeline\n",
    "from sklearn.ensemble import StackingClassifier\n",
    "import tensorflow as tf\n",
    "from tensorflow.keras.models import Sequential\n",
    "from tensorflow.keras.layers import Dense, Dropout\n",
    "from scikeras.wrappers import KerasClassifier\n",
    "from tensorflow.keras.callbacks import EarlyStopping\n"
   ]
  },
  {
   "cell_type": "code",
   "execution_count": 41,
   "metadata": {},
   "outputs": [
    {
     "name": "stderr",
     "output_type": "stream",
     "text": [
      "C:\\Users\\Imam Bari Setiawan\\AppData\\Roaming\\Python\\Python310\\site-packages\\keras\\src\\layers\\core\\dense.py:87: UserWarning: Do not pass an `input_shape`/`input_dim` argument to a layer. When using Sequential models, prefer using an `Input(shape)` object as the first layer in the model instead.\n",
      "  super().__init__(activity_regularizer=activity_regularizer, **kwargs)\n"
     ]
    }
   ],
   "source": [
    "# Bangun Model Neural Network \n",
    "model = Sequential([\n",
    "    Dense(64, activation='relu', input_shape=(X_train_scaled.shape[1],)),  # Layer input\n",
    "    Dropout(0.3),  # Mengurangi overfitting\n",
    "    Dense(32, activation='relu'),\n",
    "    Dropout(0.3),\n",
    "    Dense(16, activation='relu'),\n",
    "    Dense(1, activation='sigmoid')  # Output layer (sigmoid untuk klasifikasi biner)\n",
    "])\n",
    "\n",
    "# Kompilasi Model \n",
    "model.compile(optimizer=Adam(learning_rate=0.001),\n",
    "              loss='binary_crossentropy',\n",
    "              metrics=['accuracy'])"
   ]
  },
  {
   "cell_type": "code",
   "execution_count": null,
   "metadata": {},
   "outputs": [
    {
     "name": "stdout",
     "output_type": "stream",
     "text": [
      "Epoch 1/50\n",
      "\u001b[1m26564/26564\u001b[0m \u001b[32m━━━━━━━━━━━━━━━━━━━━\u001b[0m\u001b[37m\u001b[0m \u001b[1m411s\u001b[0m 15ms/step - accuracy: 0.7609 - loss: 0.5037 - val_accuracy: 0.7790 - val_loss: 0.4690\n",
      "Epoch 2/50\n",
      "\u001b[1m26564/26564\u001b[0m \u001b[32m━━━━━━━━━━━━━━━━━━━━\u001b[0m\u001b[37m\u001b[0m \u001b[1m327s\u001b[0m 12ms/step - accuracy: 0.7853 - loss: 0.4687 - val_accuracy: 0.7757 - val_loss: 0.4722\n",
      "Epoch 3/50\n",
      "\u001b[1m26564/26564\u001b[0m \u001b[32m━━━━━━━━━━━━━━━━━━━━\u001b[0m\u001b[37m\u001b[0m \u001b[1m327s\u001b[0m 12ms/step - accuracy: 0.7891 - loss: 0.4596 - val_accuracy: 0.7921 - val_loss: 0.4389\n",
      "Epoch 4/50\n",
      "\u001b[1m26564/26564\u001b[0m \u001b[32m━━━━━━━━━━━━━━━━━━━━\u001b[0m\u001b[37m\u001b[0m \u001b[1m374s\u001b[0m 12ms/step - accuracy: 0.7897 - loss: 0.4577 - val_accuracy: 0.7746 - val_loss: 0.4624\n",
      "Epoch 5/50\n",
      "\u001b[1m26564/26564\u001b[0m \u001b[32m━━━━━━━━━━━━━━━━━━━━\u001b[0m\u001b[37m\u001b[0m \u001b[1m345s\u001b[0m 13ms/step - accuracy: 0.7902 - loss: 0.4549 - val_accuracy: 0.7937 - val_loss: 0.4398\n",
      "Epoch 6/50\n",
      "\u001b[1m26564/26564\u001b[0m \u001b[32m━━━━━━━━━━━━━━━━━━━━\u001b[0m\u001b[37m\u001b[0m \u001b[1m290s\u001b[0m 11ms/step - accuracy: 0.7928 - loss: 0.4516 - val_accuracy: 0.7949 - val_loss: 0.4452\n",
      "Epoch 7/50\n",
      "\u001b[1m26564/26564\u001b[0m \u001b[32m━━━━━━━━━━━━━━━━━━━━\u001b[0m\u001b[37m\u001b[0m \u001b[1m270s\u001b[0m 10ms/step - accuracy: 0.7923 - loss: 0.4521 - val_accuracy: 0.7871 - val_loss: 0.4625\n",
      "Epoch 8/50\n",
      "\u001b[1m26564/26564\u001b[0m \u001b[32m━━━━━━━━━━━━━━━━━━━━\u001b[0m\u001b[37m\u001b[0m \u001b[1m295s\u001b[0m 11ms/step - accuracy: 0.7943 - loss: 0.4491 - val_accuracy: 0.7950 - val_loss: 0.4394\n"
     ]
    }
   ],
   "source": [
    "# Melatih Model\n",
    "early_stopping = EarlyStopping(monitor='val_loss', patience=5, restore_best_weights=True)\n",
    "\n",
    "history = model.fit(X_train_scaled, y_train_resampled,  # Gunakan y_train_resampled!\n",
    "                    epochs=50, \n",
    "                    batch_size=32, \n",
    "                    validation_data=(X_test_scaled, y_test), \n",
    "                    callbacks=[early_stopping])"
   ]
  },
  {
   "cell_type": "code",
   "execution_count": 44,
   "metadata": {},
   "outputs": [
    {
     "name": "stdout",
     "output_type": "stream",
     "text": [
      "\u001b[1m10594/10594\u001b[0m \u001b[32m━━━━━━━━━━━━━━━━━━━━\u001b[0m\u001b[37m\u001b[0m \u001b[1m172s\u001b[0m 16ms/step - accuracy: 0.7910 - loss: 0.4408\n",
      "Test Accuracy: 79.21%\n",
      "\u001b[1m10594/10594\u001b[0m \u001b[32m━━━━━━━━━━━━━━━━━━━━\u001b[0m\u001b[37m\u001b[0m \u001b[1m77s\u001b[0m 7ms/step\n",
      "\n",
      "Classification Report:\n",
      "              precision    recall  f1-score   support\n",
      "\n",
      "           0       0.90      0.79      0.84    233262\n",
      "           1       0.63      0.80      0.71    105727\n",
      "\n",
      "    accuracy                           0.79    338989\n",
      "   macro avg       0.76      0.79      0.77    338989\n",
      "weighted avg       0.81      0.79      0.80    338989\n",
      "\n"
     ]
    }
   ],
   "source": [
    "# Evaluasi Model \n",
    "test_loss, test_acc = model.evaluate(X_test_scaled, y_test)\n",
    "print(f\"Test Accuracy: {test_acc:.2%}\")\n",
    "\n",
    "# Prediksi dan Evaluasi\n",
    "y_pred_prob = model.predict(X_test_scaled)\n",
    "y_pred = (y_pred_prob > 0.5).astype(int)  # Konversi probabilitas ke label biner\n",
    "\n",
    "# Classification Report\n",
    "print(\"\\nClassification Report:\")\n",
    "print(classification_report(y_test, y_pred))\n",
    "\n",
    "# Confusion Matrix\n",
    "conf_matrix = confusion_matrix(y_test, y_pred)"
   ]
  },
  {
   "cell_type": "markdown",
   "metadata": {},
   "source": [
    "## Stacking with DL"
   ]
  },
  {
   "cell_type": "code",
   "execution_count": 43,
   "metadata": {},
   "outputs": [],
   "source": [
    "def build_mlp():\n",
    "    model = Sequential([\n",
    "        Dense(64, activation='relu', input_shape=(X_train_scaled.shape[1],)),\n",
    "        Dropout(0.3),\n",
    "        Dense(32, activation='relu'),\n",
    "        Dropout(0.3),\n",
    "        Dense(1, activation='sigmoid')\n",
    "    ])\n",
    "    model.compile(optimizer='adam', loss='binary_crossentropy', metrics=['accuracy'])\n",
    "    return model\n",
    "\n",
    "# Bungkus model dalam KerasClassifier agar kompatibel dengan Stacking\n",
    "mlp_clf = KerasClassifier(build_fn=build_mlp, epochs=50, batch_size=32, verbose=0)\n"
   ]
  },
  {
   "cell_type": "code",
   "execution_count": null,
   "metadata": {},
   "outputs": [
    {
     "name": "stderr",
     "output_type": "stream",
     "text": [
      "c:\\Users\\Imam Bari Setiawan\\AppData\\Local\\Programs\\Python\\Python310\\lib\\site-packages\\scikeras\\wrappers.py:915: UserWarning: ``build_fn`` will be renamed to ``model`` in a future release, at which point use of ``build_fn`` will raise an Error instead.\n",
      "  X, y = self._initialize(X, y)\n",
      "c:\\Users\\Imam Bari Setiawan\\AppData\\Local\\Programs\\Python\\Python310\\lib\\site-packages\\scikeras\\wrappers.py:915: UserWarning: ``build_fn`` will be renamed to ``model`` in a future release, at which point use of ``build_fn`` will raise an Error instead.\n",
      "  X, y = self._initialize(X, y)\n"
     ]
    }
   ],
   "source": [
    "# Model Base (Level 1)\n",
    "xgb_clf = XGBClassifier(n_estimators=50, learning_rate=0.1, random_state=42)\n",
    "rf_clf = RandomForestClassifier(n_estimators=50, random_state=42)\n",
    "\n",
    "# Model Meta (Level 2)\n",
    "meta_clf = LogisticRegression()\n",
    "\n",
    "# Stacking Classifier\n",
    "stacked_modell = StackingClassifier(\n",
    "    estimators=[('xgb', xgb_clf), ('rf', rf_clf), ('mlp', mlp_clf)],\n",
    "    final_estimator=meta_clf\n",
    ")\n",
    "\n",
    "# Training Model\n",
    "stacked_modell.fit(X_train_scaled, y_train_resampled)\n"
   ]
  },
  {
   "cell_type": "code",
   "execution_count": 48,
   "metadata": {},
   "outputs": [
    {
     "name": "stdout",
     "output_type": "stream",
     "text": [
      "Akurasi Stacked Model: 96.66%\n"
     ]
    }
   ],
   "source": [
    "# Prediksi\n",
    "y_pred = stacked_modell.predict(X_test_scaled)\n",
    "\n",
    "# Akurasi Model\n",
    "accuracy = accuracy_score(y_test, y_pred)\n",
    "print(f\"Akurasi Stacked Model: {accuracy:.2%}\")\n"
   ]
  },
  {
   "cell_type": "code",
   "execution_count": 51,
   "metadata": {},
   "outputs": [
    {
     "name": "stderr",
     "output_type": "stream",
     "text": [
      "C:\\Users\\Imam Bari Setiawan\\AppData\\Roaming\\Python\\Python312\\site-packages\\scikeras\\wrappers.py:925: UserWarning: ``build_fn`` will be renamed to ``model`` in a future release, at which point use of ``build_fn`` will raise an Error instead.\n",
      "  X, y = self._initialize(X, y)\n",
      "C:\\Users\\Imam Bari Setiawan\\AppData\\Roaming\\Python\\Python312\\site-packages\\keras\\src\\layers\\core\\dense.py:87: UserWarning: Do not pass an `input_shape`/`input_dim` argument to a layer. When using Sequential models, prefer using an `Input(shape)` object as the first layer in the model instead.\n",
      "  super().__init__(activity_regularizer=activity_regularizer, **kwargs)\n",
      "C:\\Users\\Imam Bari Setiawan\\AppData\\Roaming\\Python\\Python312\\site-packages\\scikeras\\wrappers.py:925: UserWarning: ``build_fn`` will be renamed to ``model`` in a future release, at which point use of ``build_fn`` will raise an Error instead.\n",
      "  X, y = self._initialize(X, y)\n",
      "C:\\Users\\Imam Bari Setiawan\\AppData\\Roaming\\Python\\Python312\\site-packages\\keras\\src\\layers\\core\\dense.py:87: UserWarning: Do not pass an `input_shape`/`input_dim` argument to a layer. When using Sequential models, prefer using an `Input(shape)` object as the first layer in the model instead.\n",
      "  super().__init__(activity_regularizer=activity_regularizer, **kwargs)\n",
      "C:\\Users\\Imam Bari Setiawan\\AppData\\Roaming\\Python\\Python312\\site-packages\\scikeras\\wrappers.py:925: UserWarning: ``build_fn`` will be renamed to ``model`` in a future release, at which point use of ``build_fn`` will raise an Error instead.\n",
      "  X, y = self._initialize(X, y)\n",
      "C:\\Users\\Imam Bari Setiawan\\AppData\\Roaming\\Python\\Python312\\site-packages\\keras\\src\\layers\\core\\dense.py:87: UserWarning: Do not pass an `input_shape`/`input_dim` argument to a layer. When using Sequential models, prefer using an `Input(shape)` object as the first layer in the model instead.\n",
      "  super().__init__(activity_regularizer=activity_regularizer, **kwargs)\n",
      "C:\\Users\\Imam Bari Setiawan\\AppData\\Roaming\\Python\\Python312\\site-packages\\scikeras\\wrappers.py:925: UserWarning: ``build_fn`` will be renamed to ``model`` in a future release, at which point use of ``build_fn`` will raise an Error instead.\n",
      "  X, y = self._initialize(X, y)\n",
      "C:\\Users\\Imam Bari Setiawan\\AppData\\Roaming\\Python\\Python312\\site-packages\\keras\\src\\layers\\core\\dense.py:87: UserWarning: Do not pass an `input_shape`/`input_dim` argument to a layer. When using Sequential models, prefer using an `Input(shape)` object as the first layer in the model instead.\n",
      "  super().__init__(activity_regularizer=activity_regularizer, **kwargs)\n",
      "C:\\Users\\Imam Bari Setiawan\\AppData\\Roaming\\Python\\Python312\\site-packages\\scikeras\\wrappers.py:925: UserWarning: ``build_fn`` will be renamed to ``model`` in a future release, at which point use of ``build_fn`` will raise an Error instead.\n",
      "  X, y = self._initialize(X, y)\n",
      "C:\\Users\\Imam Bari Setiawan\\AppData\\Roaming\\Python\\Python312\\site-packages\\keras\\src\\layers\\core\\dense.py:87: UserWarning: Do not pass an `input_shape`/`input_dim` argument to a layer. When using Sequential models, prefer using an `Input(shape)` object as the first layer in the model instead.\n",
      "  super().__init__(activity_regularizer=activity_regularizer, **kwargs)\n",
      "C:\\Users\\Imam Bari Setiawan\\AppData\\Roaming\\Python\\Python312\\site-packages\\scikeras\\wrappers.py:925: UserWarning: ``build_fn`` will be renamed to ``model`` in a future release, at which point use of ``build_fn`` will raise an Error instead.\n",
      "  X, y = self._initialize(X, y)\n",
      "C:\\Users\\Imam Bari Setiawan\\AppData\\Roaming\\Python\\Python312\\site-packages\\keras\\src\\layers\\core\\dense.py:87: UserWarning: Do not pass an `input_shape`/`input_dim` argument to a layer. When using Sequential models, prefer using an `Input(shape)` object as the first layer in the model instead.\n",
      "  super().__init__(activity_regularizer=activity_regularizer, **kwargs)\n"
     ]
    },
    {
     "data": {
      "text/html": [
       "<style>#sk-container-id-2 {\n",
       "  /* Definition of color scheme common for light and dark mode */\n",
       "  --sklearn-color-text: black;\n",
       "  --sklearn-color-line: gray;\n",
       "  /* Definition of color scheme for unfitted estimators */\n",
       "  --sklearn-color-unfitted-level-0: #fff5e6;\n",
       "  --sklearn-color-unfitted-level-1: #f6e4d2;\n",
       "  --sklearn-color-unfitted-level-2: #ffe0b3;\n",
       "  --sklearn-color-unfitted-level-3: chocolate;\n",
       "  /* Definition of color scheme for fitted estimators */\n",
       "  --sklearn-color-fitted-level-0: #f0f8ff;\n",
       "  --sklearn-color-fitted-level-1: #d4ebff;\n",
       "  --sklearn-color-fitted-level-2: #b3dbfd;\n",
       "  --sklearn-color-fitted-level-3: cornflowerblue;\n",
       "\n",
       "  /* Specific color for light theme */\n",
       "  --sklearn-color-text-on-default-background: var(--sg-text-color, var(--theme-code-foreground, var(--jp-content-font-color1, black)));\n",
       "  --sklearn-color-background: var(--sg-background-color, var(--theme-background, var(--jp-layout-color0, white)));\n",
       "  --sklearn-color-border-box: var(--sg-text-color, var(--theme-code-foreground, var(--jp-content-font-color1, black)));\n",
       "  --sklearn-color-icon: #696969;\n",
       "\n",
       "  @media (prefers-color-scheme: dark) {\n",
       "    /* Redefinition of color scheme for dark theme */\n",
       "    --sklearn-color-text-on-default-background: var(--sg-text-color, var(--theme-code-foreground, var(--jp-content-font-color1, white)));\n",
       "    --sklearn-color-background: var(--sg-background-color, var(--theme-background, var(--jp-layout-color0, #111)));\n",
       "    --sklearn-color-border-box: var(--sg-text-color, var(--theme-code-foreground, var(--jp-content-font-color1, white)));\n",
       "    --sklearn-color-icon: #878787;\n",
       "  }\n",
       "}\n",
       "\n",
       "#sk-container-id-2 {\n",
       "  color: var(--sklearn-color-text);\n",
       "}\n",
       "\n",
       "#sk-container-id-2 pre {\n",
       "  padding: 0;\n",
       "}\n",
       "\n",
       "#sk-container-id-2 input.sk-hidden--visually {\n",
       "  border: 0;\n",
       "  clip: rect(1px 1px 1px 1px);\n",
       "  clip: rect(1px, 1px, 1px, 1px);\n",
       "  height: 1px;\n",
       "  margin: -1px;\n",
       "  overflow: hidden;\n",
       "  padding: 0;\n",
       "  position: absolute;\n",
       "  width: 1px;\n",
       "}\n",
       "\n",
       "#sk-container-id-2 div.sk-dashed-wrapped {\n",
       "  border: 1px dashed var(--sklearn-color-line);\n",
       "  margin: 0 0.4em 0.5em 0.4em;\n",
       "  box-sizing: border-box;\n",
       "  padding-bottom: 0.4em;\n",
       "  background-color: var(--sklearn-color-background);\n",
       "}\n",
       "\n",
       "#sk-container-id-2 div.sk-container {\n",
       "  /* jupyter's `normalize.less` sets `[hidden] { display: none; }`\n",
       "     but bootstrap.min.css set `[hidden] { display: none !important; }`\n",
       "     so we also need the `!important` here to be able to override the\n",
       "     default hidden behavior on the sphinx rendered scikit-learn.org.\n",
       "     See: https://github.com/scikit-learn/scikit-learn/issues/21755 */\n",
       "  display: inline-block !important;\n",
       "  position: relative;\n",
       "}\n",
       "\n",
       "#sk-container-id-2 div.sk-text-repr-fallback {\n",
       "  display: none;\n",
       "}\n",
       "\n",
       "div.sk-parallel-item,\n",
       "div.sk-serial,\n",
       "div.sk-item {\n",
       "  /* draw centered vertical line to link estimators */\n",
       "  background-image: linear-gradient(var(--sklearn-color-text-on-default-background), var(--sklearn-color-text-on-default-background));\n",
       "  background-size: 2px 100%;\n",
       "  background-repeat: no-repeat;\n",
       "  background-position: center center;\n",
       "}\n",
       "\n",
       "/* Parallel-specific style estimator block */\n",
       "\n",
       "#sk-container-id-2 div.sk-parallel-item::after {\n",
       "  content: \"\";\n",
       "  width: 100%;\n",
       "  border-bottom: 2px solid var(--sklearn-color-text-on-default-background);\n",
       "  flex-grow: 1;\n",
       "}\n",
       "\n",
       "#sk-container-id-2 div.sk-parallel {\n",
       "  display: flex;\n",
       "  align-items: stretch;\n",
       "  justify-content: center;\n",
       "  background-color: var(--sklearn-color-background);\n",
       "  position: relative;\n",
       "}\n",
       "\n",
       "#sk-container-id-2 div.sk-parallel-item {\n",
       "  display: flex;\n",
       "  flex-direction: column;\n",
       "}\n",
       "\n",
       "#sk-container-id-2 div.sk-parallel-item:first-child::after {\n",
       "  align-self: flex-end;\n",
       "  width: 50%;\n",
       "}\n",
       "\n",
       "#sk-container-id-2 div.sk-parallel-item:last-child::after {\n",
       "  align-self: flex-start;\n",
       "  width: 50%;\n",
       "}\n",
       "\n",
       "#sk-container-id-2 div.sk-parallel-item:only-child::after {\n",
       "  width: 0;\n",
       "}\n",
       "\n",
       "/* Serial-specific style estimator block */\n",
       "\n",
       "#sk-container-id-2 div.sk-serial {\n",
       "  display: flex;\n",
       "  flex-direction: column;\n",
       "  align-items: center;\n",
       "  background-color: var(--sklearn-color-background);\n",
       "  padding-right: 1em;\n",
       "  padding-left: 1em;\n",
       "}\n",
       "\n",
       "\n",
       "/* Toggleable style: style used for estimator/Pipeline/ColumnTransformer box that is\n",
       "clickable and can be expanded/collapsed.\n",
       "- Pipeline and ColumnTransformer use this feature and define the default style\n",
       "- Estimators will overwrite some part of the style using the `sk-estimator` class\n",
       "*/\n",
       "\n",
       "/* Pipeline and ColumnTransformer style (default) */\n",
       "\n",
       "#sk-container-id-2 div.sk-toggleable {\n",
       "  /* Default theme specific background. It is overwritten whether we have a\n",
       "  specific estimator or a Pipeline/ColumnTransformer */\n",
       "  background-color: var(--sklearn-color-background);\n",
       "}\n",
       "\n",
       "/* Toggleable label */\n",
       "#sk-container-id-2 label.sk-toggleable__label {\n",
       "  cursor: pointer;\n",
       "  display: block;\n",
       "  width: 100%;\n",
       "  margin-bottom: 0;\n",
       "  padding: 0.5em;\n",
       "  box-sizing: border-box;\n",
       "  text-align: center;\n",
       "}\n",
       "\n",
       "#sk-container-id-2 label.sk-toggleable__label-arrow:before {\n",
       "  /* Arrow on the left of the label */\n",
       "  content: \"▸\";\n",
       "  float: left;\n",
       "  margin-right: 0.25em;\n",
       "  color: var(--sklearn-color-icon);\n",
       "}\n",
       "\n",
       "#sk-container-id-2 label.sk-toggleable__label-arrow:hover:before {\n",
       "  color: var(--sklearn-color-text);\n",
       "}\n",
       "\n",
       "/* Toggleable content - dropdown */\n",
       "\n",
       "#sk-container-id-2 div.sk-toggleable__content {\n",
       "  max-height: 0;\n",
       "  max-width: 0;\n",
       "  overflow: hidden;\n",
       "  text-align: left;\n",
       "  /* unfitted */\n",
       "  background-color: var(--sklearn-color-unfitted-level-0);\n",
       "}\n",
       "\n",
       "#sk-container-id-2 div.sk-toggleable__content.fitted {\n",
       "  /* fitted */\n",
       "  background-color: var(--sklearn-color-fitted-level-0);\n",
       "}\n",
       "\n",
       "#sk-container-id-2 div.sk-toggleable__content pre {\n",
       "  margin: 0.2em;\n",
       "  border-radius: 0.25em;\n",
       "  color: var(--sklearn-color-text);\n",
       "  /* unfitted */\n",
       "  background-color: var(--sklearn-color-unfitted-level-0);\n",
       "}\n",
       "\n",
       "#sk-container-id-2 div.sk-toggleable__content.fitted pre {\n",
       "  /* unfitted */\n",
       "  background-color: var(--sklearn-color-fitted-level-0);\n",
       "}\n",
       "\n",
       "#sk-container-id-2 input.sk-toggleable__control:checked~div.sk-toggleable__content {\n",
       "  /* Expand drop-down */\n",
       "  max-height: 200px;\n",
       "  max-width: 100%;\n",
       "  overflow: auto;\n",
       "}\n",
       "\n",
       "#sk-container-id-2 input.sk-toggleable__control:checked~label.sk-toggleable__label-arrow:before {\n",
       "  content: \"▾\";\n",
       "}\n",
       "\n",
       "/* Pipeline/ColumnTransformer-specific style */\n",
       "\n",
       "#sk-container-id-2 div.sk-label input.sk-toggleable__control:checked~label.sk-toggleable__label {\n",
       "  color: var(--sklearn-color-text);\n",
       "  background-color: var(--sklearn-color-unfitted-level-2);\n",
       "}\n",
       "\n",
       "#sk-container-id-2 div.sk-label.fitted input.sk-toggleable__control:checked~label.sk-toggleable__label {\n",
       "  background-color: var(--sklearn-color-fitted-level-2);\n",
       "}\n",
       "\n",
       "/* Estimator-specific style */\n",
       "\n",
       "/* Colorize estimator box */\n",
       "#sk-container-id-2 div.sk-estimator input.sk-toggleable__control:checked~label.sk-toggleable__label {\n",
       "  /* unfitted */\n",
       "  background-color: var(--sklearn-color-unfitted-level-2);\n",
       "}\n",
       "\n",
       "#sk-container-id-2 div.sk-estimator.fitted input.sk-toggleable__control:checked~label.sk-toggleable__label {\n",
       "  /* fitted */\n",
       "  background-color: var(--sklearn-color-fitted-level-2);\n",
       "}\n",
       "\n",
       "#sk-container-id-2 div.sk-label label.sk-toggleable__label,\n",
       "#sk-container-id-2 div.sk-label label {\n",
       "  /* The background is the default theme color */\n",
       "  color: var(--sklearn-color-text-on-default-background);\n",
       "}\n",
       "\n",
       "/* On hover, darken the color of the background */\n",
       "#sk-container-id-2 div.sk-label:hover label.sk-toggleable__label {\n",
       "  color: var(--sklearn-color-text);\n",
       "  background-color: var(--sklearn-color-unfitted-level-2);\n",
       "}\n",
       "\n",
       "/* Label box, darken color on hover, fitted */\n",
       "#sk-container-id-2 div.sk-label.fitted:hover label.sk-toggleable__label.fitted {\n",
       "  color: var(--sklearn-color-text);\n",
       "  background-color: var(--sklearn-color-fitted-level-2);\n",
       "}\n",
       "\n",
       "/* Estimator label */\n",
       "\n",
       "#sk-container-id-2 div.sk-label label {\n",
       "  font-family: monospace;\n",
       "  font-weight: bold;\n",
       "  display: inline-block;\n",
       "  line-height: 1.2em;\n",
       "}\n",
       "\n",
       "#sk-container-id-2 div.sk-label-container {\n",
       "  text-align: center;\n",
       "}\n",
       "\n",
       "/* Estimator-specific */\n",
       "#sk-container-id-2 div.sk-estimator {\n",
       "  font-family: monospace;\n",
       "  border: 1px dotted var(--sklearn-color-border-box);\n",
       "  border-radius: 0.25em;\n",
       "  box-sizing: border-box;\n",
       "  margin-bottom: 0.5em;\n",
       "  /* unfitted */\n",
       "  background-color: var(--sklearn-color-unfitted-level-0);\n",
       "}\n",
       "\n",
       "#sk-container-id-2 div.sk-estimator.fitted {\n",
       "  /* fitted */\n",
       "  background-color: var(--sklearn-color-fitted-level-0);\n",
       "}\n",
       "\n",
       "/* on hover */\n",
       "#sk-container-id-2 div.sk-estimator:hover {\n",
       "  /* unfitted */\n",
       "  background-color: var(--sklearn-color-unfitted-level-2);\n",
       "}\n",
       "\n",
       "#sk-container-id-2 div.sk-estimator.fitted:hover {\n",
       "  /* fitted */\n",
       "  background-color: var(--sklearn-color-fitted-level-2);\n",
       "}\n",
       "\n",
       "/* Specification for estimator info (e.g. \"i\" and \"?\") */\n",
       "\n",
       "/* Common style for \"i\" and \"?\" */\n",
       "\n",
       ".sk-estimator-doc-link,\n",
       "a:link.sk-estimator-doc-link,\n",
       "a:visited.sk-estimator-doc-link {\n",
       "  float: right;\n",
       "  font-size: smaller;\n",
       "  line-height: 1em;\n",
       "  font-family: monospace;\n",
       "  background-color: var(--sklearn-color-background);\n",
       "  border-radius: 1em;\n",
       "  height: 1em;\n",
       "  width: 1em;\n",
       "  text-decoration: none !important;\n",
       "  margin-left: 1ex;\n",
       "  /* unfitted */\n",
       "  border: var(--sklearn-color-unfitted-level-1) 1pt solid;\n",
       "  color: var(--sklearn-color-unfitted-level-1);\n",
       "}\n",
       "\n",
       ".sk-estimator-doc-link.fitted,\n",
       "a:link.sk-estimator-doc-link.fitted,\n",
       "a:visited.sk-estimator-doc-link.fitted {\n",
       "  /* fitted */\n",
       "  border: var(--sklearn-color-fitted-level-1) 1pt solid;\n",
       "  color: var(--sklearn-color-fitted-level-1);\n",
       "}\n",
       "\n",
       "/* On hover */\n",
       "div.sk-estimator:hover .sk-estimator-doc-link:hover,\n",
       ".sk-estimator-doc-link:hover,\n",
       "div.sk-label-container:hover .sk-estimator-doc-link:hover,\n",
       ".sk-estimator-doc-link:hover {\n",
       "  /* unfitted */\n",
       "  background-color: var(--sklearn-color-unfitted-level-3);\n",
       "  color: var(--sklearn-color-background);\n",
       "  text-decoration: none;\n",
       "}\n",
       "\n",
       "div.sk-estimator.fitted:hover .sk-estimator-doc-link.fitted:hover,\n",
       ".sk-estimator-doc-link.fitted:hover,\n",
       "div.sk-label-container:hover .sk-estimator-doc-link.fitted:hover,\n",
       ".sk-estimator-doc-link.fitted:hover {\n",
       "  /* fitted */\n",
       "  background-color: var(--sklearn-color-fitted-level-3);\n",
       "  color: var(--sklearn-color-background);\n",
       "  text-decoration: none;\n",
       "}\n",
       "\n",
       "/* Span, style for the box shown on hovering the info icon */\n",
       ".sk-estimator-doc-link span {\n",
       "  display: none;\n",
       "  z-index: 9999;\n",
       "  position: relative;\n",
       "  font-weight: normal;\n",
       "  right: .2ex;\n",
       "  padding: .5ex;\n",
       "  margin: .5ex;\n",
       "  width: min-content;\n",
       "  min-width: 20ex;\n",
       "  max-width: 50ex;\n",
       "  color: var(--sklearn-color-text);\n",
       "  box-shadow: 2pt 2pt 4pt #999;\n",
       "  /* unfitted */\n",
       "  background: var(--sklearn-color-unfitted-level-0);\n",
       "  border: .5pt solid var(--sklearn-color-unfitted-level-3);\n",
       "}\n",
       "\n",
       ".sk-estimator-doc-link.fitted span {\n",
       "  /* fitted */\n",
       "  background: var(--sklearn-color-fitted-level-0);\n",
       "  border: var(--sklearn-color-fitted-level-3);\n",
       "}\n",
       "\n",
       ".sk-estimator-doc-link:hover span {\n",
       "  display: block;\n",
       "}\n",
       "\n",
       "/* \"?\"-specific style due to the `<a>` HTML tag */\n",
       "\n",
       "#sk-container-id-2 a.estimator_doc_link {\n",
       "  float: right;\n",
       "  font-size: 1rem;\n",
       "  line-height: 1em;\n",
       "  font-family: monospace;\n",
       "  background-color: var(--sklearn-color-background);\n",
       "  border-radius: 1rem;\n",
       "  height: 1rem;\n",
       "  width: 1rem;\n",
       "  text-decoration: none;\n",
       "  /* unfitted */\n",
       "  color: var(--sklearn-color-unfitted-level-1);\n",
       "  border: var(--sklearn-color-unfitted-level-1) 1pt solid;\n",
       "}\n",
       "\n",
       "#sk-container-id-2 a.estimator_doc_link.fitted {\n",
       "  /* fitted */\n",
       "  border: var(--sklearn-color-fitted-level-1) 1pt solid;\n",
       "  color: var(--sklearn-color-fitted-level-1);\n",
       "}\n",
       "\n",
       "/* On hover */\n",
       "#sk-container-id-2 a.estimator_doc_link:hover {\n",
       "  /* unfitted */\n",
       "  background-color: var(--sklearn-color-unfitted-level-3);\n",
       "  color: var(--sklearn-color-background);\n",
       "  text-decoration: none;\n",
       "}\n",
       "\n",
       "#sk-container-id-2 a.estimator_doc_link.fitted:hover {\n",
       "  /* fitted */\n",
       "  background-color: var(--sklearn-color-fitted-level-3);\n",
       "}\n",
       "</style><div id=\"sk-container-id-2\" class=\"sk-top-container\"><div class=\"sk-text-repr-fallback\"><pre>StackingClassifier(estimators=[(&#x27;xgb&#x27;,\n",
       "                                XGBClassifier(base_score=None, booster=None,\n",
       "                                              callbacks=None,\n",
       "                                              colsample_bylevel=None,\n",
       "                                              colsample_bynode=None,\n",
       "                                              colsample_bytree=None,\n",
       "                                              device=None,\n",
       "                                              early_stopping_rounds=None,\n",
       "                                              enable_categorical=False,\n",
       "                                              eval_metric=None,\n",
       "                                              feature_types=None, gamma=None,\n",
       "                                              grow_policy=None,\n",
       "                                              importance_type=None,\n",
       "                                              interaction_constraints=None,\n",
       "                                              learning_...\n",
       "                                              min_child_weight=None,\n",
       "                                              missing=nan,\n",
       "                                              monotone_constraints=None,\n",
       "                                              multi_strategy=None,\n",
       "                                              n_estimators=200, n_jobs=None,\n",
       "                                              num_parallel_tree=None,\n",
       "                                              random_state=42, ...)),\n",
       "                               (&#x27;rf&#x27;,\n",
       "                                RandomForestClassifier(n_estimators=200,\n",
       "                                                       random_state=42)),\n",
       "                               (&#x27;mlp&#x27;,\n",
       "                                KerasClassifier(batch_size=32, build_fn=&lt;function build_mlp at 0x0000022111F90FE0&gt;, epochs=50, verbose=0))],\n",
       "                   final_estimator=LogisticRegression())</pre><b>In a Jupyter environment, please rerun this cell to show the HTML representation or trust the notebook. <br />On GitHub, the HTML representation is unable to render, please try loading this page with nbviewer.org.</b></div><div class=\"sk-container\" hidden><div class=\"sk-item sk-dashed-wrapped\"><div class=\"sk-label-container\"><div class=\"sk-label fitted sk-toggleable\"><input class=\"sk-toggleable__control sk-hidden--visually\" id=\"sk-estimator-id-6\" type=\"checkbox\" ><label for=\"sk-estimator-id-6\" class=\"sk-toggleable__label fitted sk-toggleable__label-arrow fitted\">&nbsp;&nbsp;StackingClassifier<a class=\"sk-estimator-doc-link fitted\" rel=\"noreferrer\" target=\"_blank\" href=\"https://scikit-learn.org/1.5/modules/generated/sklearn.ensemble.StackingClassifier.html\">?<span>Documentation for StackingClassifier</span></a><span class=\"sk-estimator-doc-link fitted\">i<span>Fitted</span></span></label><div class=\"sk-toggleable__content fitted\"><pre>StackingClassifier(estimators=[(&#x27;xgb&#x27;,\n",
       "                                XGBClassifier(base_score=None, booster=None,\n",
       "                                              callbacks=None,\n",
       "                                              colsample_bylevel=None,\n",
       "                                              colsample_bynode=None,\n",
       "                                              colsample_bytree=None,\n",
       "                                              device=None,\n",
       "                                              early_stopping_rounds=None,\n",
       "                                              enable_categorical=False,\n",
       "                                              eval_metric=None,\n",
       "                                              feature_types=None, gamma=None,\n",
       "                                              grow_policy=None,\n",
       "                                              importance_type=None,\n",
       "                                              interaction_constraints=None,\n",
       "                                              learning_...\n",
       "                                              min_child_weight=None,\n",
       "                                              missing=nan,\n",
       "                                              monotone_constraints=None,\n",
       "                                              multi_strategy=None,\n",
       "                                              n_estimators=200, n_jobs=None,\n",
       "                                              num_parallel_tree=None,\n",
       "                                              random_state=42, ...)),\n",
       "                               (&#x27;rf&#x27;,\n",
       "                                RandomForestClassifier(n_estimators=200,\n",
       "                                                       random_state=42)),\n",
       "                               (&#x27;mlp&#x27;,\n",
       "                                KerasClassifier(batch_size=32, build_fn=&lt;function build_mlp at 0x0000022111F90FE0&gt;, epochs=50, verbose=0))],\n",
       "                   final_estimator=LogisticRegression())</pre></div> </div></div><div class=\"sk-serial\"><div class=\"sk-item\"><div class=\"sk-parallel\"><div class=\"sk-parallel-item\"><div class=\"sk-item\"><div class=\"sk-label-container\"><div class=\"sk-label fitted sk-toggleable\"><label>xgb</label></div></div><div class=\"sk-serial\"><div class=\"sk-item\"><div class=\"sk-estimator fitted sk-toggleable\"><input class=\"sk-toggleable__control sk-hidden--visually\" id=\"sk-estimator-id-7\" type=\"checkbox\" ><label for=\"sk-estimator-id-7\" class=\"sk-toggleable__label fitted sk-toggleable__label-arrow fitted\">XGBClassifier</label><div class=\"sk-toggleable__content fitted\"><pre>XGBClassifier(base_score=None, booster=None, callbacks=None,\n",
       "              colsample_bylevel=None, colsample_bynode=None,\n",
       "              colsample_bytree=None, device=None, early_stopping_rounds=None,\n",
       "              enable_categorical=False, eval_metric=None, feature_types=None,\n",
       "              gamma=None, grow_policy=None, importance_type=None,\n",
       "              interaction_constraints=None, learning_rate=0.1, max_bin=None,\n",
       "              max_cat_threshold=None, max_cat_to_onehot=None,\n",
       "              max_delta_step=None, max_depth=None, max_leaves=None,\n",
       "              min_child_weight=None, missing=nan, monotone_constraints=None,\n",
       "              multi_strategy=None, n_estimators=200, n_jobs=None,\n",
       "              num_parallel_tree=None, random_state=42, ...)</pre></div> </div></div></div></div></div><div class=\"sk-parallel-item\"><div class=\"sk-item\"><div class=\"sk-label-container\"><div class=\"sk-label fitted sk-toggleable\"><label>rf</label></div></div><div class=\"sk-serial\"><div class=\"sk-item\"><div class=\"sk-estimator fitted sk-toggleable\"><input class=\"sk-toggleable__control sk-hidden--visually\" id=\"sk-estimator-id-8\" type=\"checkbox\" ><label for=\"sk-estimator-id-8\" class=\"sk-toggleable__label fitted sk-toggleable__label-arrow fitted\">&nbsp;RandomForestClassifier<a class=\"sk-estimator-doc-link fitted\" rel=\"noreferrer\" target=\"_blank\" href=\"https://scikit-learn.org/1.5/modules/generated/sklearn.ensemble.RandomForestClassifier.html\">?<span>Documentation for RandomForestClassifier</span></a></label><div class=\"sk-toggleable__content fitted\"><pre>RandomForestClassifier(n_estimators=200, random_state=42)</pre></div> </div></div></div></div></div><div class=\"sk-parallel-item\"><div class=\"sk-item\"><div class=\"sk-label-container\"><div class=\"sk-label fitted sk-toggleable\"><label>mlp</label></div></div><div class=\"sk-serial\"><div class=\"sk-item\"><div class=\"sk-estimator fitted sk-toggleable\"><input class=\"sk-toggleable__control sk-hidden--visually\" id=\"sk-estimator-id-9\" type=\"checkbox\" ><label for=\"sk-estimator-id-9\" class=\"sk-toggleable__label fitted sk-toggleable__label-arrow fitted\">KerasClassifier</label><div class=\"sk-toggleable__content fitted\"><pre>KerasClassifier(\n",
       "\tmodel=None\n",
       "\tbuild_fn=&lt;function build_mlp at 0x0000022111F90FE0&gt;\n",
       "\twarm_start=False\n",
       "\trandom_state=None\n",
       "\toptimizer=rmsprop\n",
       "\tloss=None\n",
       "\tmetrics=None\n",
       "\tbatch_size=32\n",
       "\tvalidation_batch_size=None\n",
       "\tverbose=0\n",
       "\tcallbacks=None\n",
       "\tvalidation_split=0.0\n",
       "\tshuffle=True\n",
       "\trun_eagerly=False\n",
       "\tepochs=50\n",
       "\tclass_weight=None\n",
       ")</pre></div> </div></div></div></div></div></div></div><div class=\"sk-item\"><div class=\"sk-parallel\"><div class=\"sk-parallel-item\"><div class=\"sk-item\"><div class=\"sk-label-container\"><div class=\"sk-label fitted sk-toggleable\"><label>final_estimator</label></div></div><div class=\"sk-serial\"><div class=\"sk-item\"><div class=\"sk-estimator fitted sk-toggleable\"><input class=\"sk-toggleable__control sk-hidden--visually\" id=\"sk-estimator-id-10\" type=\"checkbox\" ><label for=\"sk-estimator-id-10\" class=\"sk-toggleable__label fitted sk-toggleable__label-arrow fitted\">&nbsp;LogisticRegression<a class=\"sk-estimator-doc-link fitted\" rel=\"noreferrer\" target=\"_blank\" href=\"https://scikit-learn.org/1.5/modules/generated/sklearn.linear_model.LogisticRegression.html\">?<span>Documentation for LogisticRegression</span></a></label><div class=\"sk-toggleable__content fitted\"><pre>LogisticRegression()</pre></div> </div></div></div></div></div></div></div></div></div></div></div>"
      ],
      "text/plain": [
       "StackingClassifier(estimators=[('xgb',\n",
       "                                XGBClassifier(base_score=None, booster=None,\n",
       "                                              callbacks=None,\n",
       "                                              colsample_bylevel=None,\n",
       "                                              colsample_bynode=None,\n",
       "                                              colsample_bytree=None,\n",
       "                                              device=None,\n",
       "                                              early_stopping_rounds=None,\n",
       "                                              enable_categorical=False,\n",
       "                                              eval_metric=None,\n",
       "                                              feature_types=None, gamma=None,\n",
       "                                              grow_policy=None,\n",
       "                                              importance_type=None,\n",
       "                                              interaction_constraints=None,\n",
       "                                              learning_...\n",
       "                                              min_child_weight=None,\n",
       "                                              missing=nan,\n",
       "                                              monotone_constraints=None,\n",
       "                                              multi_strategy=None,\n",
       "                                              n_estimators=200, n_jobs=None,\n",
       "                                              num_parallel_tree=None,\n",
       "                                              random_state=42, ...)),\n",
       "                               ('rf',\n",
       "                                RandomForestClassifier(n_estimators=200,\n",
       "                                                       random_state=42)),\n",
       "                               ('mlp',\n",
       "                                KerasClassifier(batch_size=32, build_fn=<function build_mlp at 0x0000022111F90FE0>, epochs=50, verbose=0))],\n",
       "                   final_estimator=LogisticRegression())"
      ]
     },
     "execution_count": 51,
     "metadata": {},
     "output_type": "execute_result"
    }
   ],
   "source": [
    "# Model Base (Level 1)\n",
    "xgb_clf = XGBClassifier(n_estimators=200, learning_rate=0.1, random_state=42)\n",
    "rf_clf = RandomForestClassifier(n_estimators=200, random_state=42)\n",
    "\n",
    "# Model Meta (Level 2)\n",
    "meta_clf = LogisticRegression()\n",
    "\n",
    "# Stacking Classifier\n",
    "stacked2_model = StackingClassifier(\n",
    "    estimators=[('xgb', xgb_clf), ('rf', rf_clf), ('mlp', mlp_clf)],\n",
    "    final_estimator=meta_clf\n",
    ")\n",
    "\n",
    "# Training Model\n",
    "stacked2_model.fit(X_train_scaled, y_train)\n"
   ]
  },
  {
   "cell_type": "code",
   "execution_count": 52,
   "metadata": {},
   "outputs": [
    {
     "name": "stdout",
     "output_type": "stream",
     "text": [
      "Akurasi Stacked Model: 96.68%\n"
     ]
    }
   ],
   "source": [
    "# Prediksi\n",
    "y_pred = stacked2_model.predict(X_test_scaled)\n",
    "\n",
    "# Akurasi Model\n",
    "accuracy = accuracy_score(y_test, y_pred)\n",
    "print(f\"Akurasi Stacked Model: {accuracy:.2%}\")\n"
   ]
  },
  {
   "cell_type": "code",
   "execution_count": null,
   "metadata": {},
   "outputs": [],
   "source": [
    "from sklearn.ensemble import StackingClassifier, RandomForestClassifier\n",
    "from sklearn.linear_model import LogisticRegression\n",
    "from xgboost import XGBClassifier\n",
    "from sklearn.neural_network import MLPClassifier\n",
    "from sklearn.preprocessing import StandardScaler\n",
    "\n",
    "# Model Base (Level 1)\n",
    "xgb_clf = XGBClassifier(n_estimators=100, learning_rate=0.1, random_state=42)\n",
    "rf_clf = RandomForestClassifier(n_estimators=100, random_state=42)\n",
    "mlp_clf = MLPClassifier(hidden_layer_sizes=(100,), max_iter=500, random_state=42)\n",
    "\n",
    "# Model Meta (Level 2)\n",
    "meta_clf = LogisticRegression()\n",
    "\n",
    "# Stacking Classifier\n",
    "stacked_model = StackingClassifier(\n",
    "    estimators=[('xgb', xgb_clf), ('rf', rf_clf), ('mlp', mlp_clf)],\n",
    "    final_estimator=meta_clf,\n",
    "    passthrough=True  # Memastikan level-2 juga menerima input awal\n",
    ")\n",
    "\n",
    "# Training Model\n",
    "stacked_model.fit(x_train_scaled, y_train_resampled)\n",
    "\n",
    "# Evaluasi Model\n",
    "accuracy = stacked_model.score(x_test_scaled, y_test)\n",
    "print(f\"Stacking Classifier Accuracy: {accuracy:.4f}\")\n"
   ]
  },
  {
   "cell_type": "markdown",
   "metadata": {},
   "source": [
    "## Stacking 3"
   ]
  },
  {
   "cell_type": "code",
   "execution_count": 35,
   "metadata": {},
   "outputs": [],
   "source": [
    "import numpy as np\n",
    "import pandas as pd\n",
    "import tensorflow as tf\n",
    "from tensorflow import keras\n",
    "from sklearn.model_selection import train_test_split\n",
    "from sklearn.ensemble import RandomForestClassifier, ExtraTreesClassifier\n",
    "from sklearn.neighbors import KNeighborsClassifier\n",
    "from sklearn.metrics import accuracy_score\n",
    "from tensorflow.keras.models import Sequential\n",
    "from tensorflow.keras.layers import Dense, Dropout"
   ]
  },
  {
   "cell_type": "code",
   "execution_count": 36,
   "metadata": {},
   "outputs": [],
   "source": [
    "import numpy as np\n",
    "import tensorflow as tf\n",
    "from tensorflow import keras\n",
    "from tensorflow.keras.models import Sequential\n",
    "from tensorflow.keras.layers import Dense, Dropout\n",
    "from tensorflow.keras.optimizers import Adam\n",
    "from sklearn.preprocessing import StandardScaler\n",
    "from sklearn.model_selection import train_test_split\n",
    "\n",
    "import numpy as np\n",
    "import pandas as pd\n",
    "from sklearn.ensemble import RandomForestClassifier\n",
    "from xgboost import XGBClassifier\n",
    "from sklearn.model_selection import train_test_split\n",
    "from sklearn.preprocessing import StandardScaler\n",
    "from sklearn.metrics import accuracy_score\n",
    "from sklearn.linear_model import LogisticRegression\n",
    "from sklearn.pipeline import make_pipeline\n",
    "from sklearn.ensemble import StackingClassifier\n",
    "import tensorflow as tf\n",
    "from tensorflow.keras.models import Sequential\n",
    "from tensorflow.keras.layers import Dense, Dropout\n",
    "from scikeras.wrappers import KerasClassifier\n",
    "from tensorflow.keras.callbacks import EarlyStopping\n"
   ]
  },
  {
   "cell_type": "code",
   "execution_count": 37,
   "metadata": {},
   "outputs": [],
   "source": [
    "# Base models\n",
    "rf = RandomForestClassifier(n_estimators=50, max_depth=None, min_samples_split=5, min_samples_leaf=2, random_state=42)\n",
    "et = ExtraTreesClassifier(n_estimators=50, max_depth=None, min_samples_split=5, min_samples_leaf=2, random_state=42)\n",
    "knn = KNeighborsClassifier(n_neighbors=7)"
   ]
  },
  {
   "cell_type": "code",
   "execution_count": 38,
   "metadata": {},
   "outputs": [
    {
     "name": "stderr",
     "output_type": "stream",
     "text": [
      "c:\\Users\\Imam Bari Setiawan\\AppData\\Local\\Programs\\Python\\Python310\\lib\\site-packages\\sklearn\\base.py:486: UserWarning: X has feature names, but RandomForestClassifier was fitted without feature names\n",
      "  warnings.warn(\n",
      "c:\\Users\\Imam Bari Setiawan\\AppData\\Local\\Programs\\Python\\Python310\\lib\\site-packages\\sklearn\\base.py:486: UserWarning: X has feature names, but ExtraTreesClassifier was fitted without feature names\n",
      "  warnings.warn(\n",
      "c:\\Users\\Imam Bari Setiawan\\AppData\\Local\\Programs\\Python\\Python310\\lib\\site-packages\\sklearn\\base.py:486: UserWarning: X has feature names, but KNeighborsClassifier was fitted without feature names\n",
      "  warnings.warn(\n"
     ]
    }
   ],
   "source": [
    "# Train base models\n",
    "rf.fit(X_train_scaled, y_train_resampled)\n",
    "et.fit(X_train_scaled, y_train_resampled)\n",
    "knn.fit(X_train_scaled, y_train_resampled)\n",
    "\n",
    "# Predict on training and test set\n",
    "train_meta = np.column_stack([\n",
    "    rf.predict_proba(X_train_scaled)[:, 1],\n",
    "    et.predict_proba(X_train_scaled)[:, 1],\n",
    "    knn.predict_proba(X_train_scaled)[:, 1]\n",
    "])\n",
    "\n",
    "test_meta = np.column_stack([\n",
    "    rf.predict_proba(x_test)[:, 1],\n",
    "    et.predict_proba(x_test)[:, 1],\n",
    "    knn.predict_proba(x_test)[:, 1]\n",
    "])"
   ]
  },
  {
   "cell_type": "code",
   "execution_count": 39,
   "metadata": {},
   "outputs": [
    {
     "data": {
      "text/plain": [
       "<keras.callbacks.History at 0x1700bde5cf0>"
      ]
     },
     "execution_count": 39,
     "metadata": {},
     "output_type": "execute_result"
    }
   ],
   "source": [
    "# Build Deep Learning Meta Model\n",
    "def build_mlp():\n",
    "    model = Sequential([\n",
    "        Dense(64, activation='relu', input_shape=(3,)),\n",
    "        Dropout(0.3),\n",
    "        Dense(32, activation='relu'),\n",
    "        Dense(1, activation='sigmoid')\n",
    "    ])\n",
    "    model.compile(optimizer='adam', loss='binary_crossentropy', metrics=['accuracy'])\n",
    "    return model\n",
    "\n",
    "mlp = build_mlp()\n",
    "mlp.fit(train_meta, y_train_resampled, epochs=20, batch_size=16, verbose=0, validation_data=(test_meta, y_test))"
   ]
  },
  {
   "cell_type": "code",
   "execution_count": 40,
   "metadata": {},
   "outputs": [
    {
     "name": "stdout",
     "output_type": "stream",
     "text": [
      "10594/10594 [==============================] - 50s 5ms/step\n",
      "Final Stacking Model Accuracy: 40.10%\n"
     ]
    }
   ],
   "source": [
    "# Evaluate the model\n",
    "y_pred = (mlp.predict(test_meta) > 0.5).astype(int)\n",
    "accuracy = accuracy_score(y_test, y_pred)\n",
    "print(f'Final Stacking Model Accuracy: {accuracy:.2%}')"
   ]
  },
  {
   "cell_type": "code",
   "execution_count": null,
   "metadata": {},
   "outputs": [],
   "source": [
    "# Definisikan Model MLP\n",
    "def build_mlp():\n",
    "    model = Sequential([\n",
    "        Dense(64, activation='relu', input_shape=(x_train.shape[1],)),\n",
    "        Dropout(0.3),\n",
    "        Dense(32, activation='relu'),\n",
    "        Dropout(0.3),\n",
    "        Dense(1, activation='sigmoid')\n",
    "    ])\n",
    "    model.compile(optimizer='adam', loss='binary_crossentropy', metrics=['accuracy'])\n",
    "    return model\n",
    "\n",
    "# Bungkus MLP dalam KerasClassifier\n",
    "mlp_clf = KerasClassifier(build_fn=build_mlp, epochs=100, batch_size=32, verbose=0)"
   ]
  },
  {
   "cell_type": "markdown",
   "metadata": {
    "id": "vzGwyNZtfnvw"
   },
   "source": [
    "# Evaluasi Model"
   ]
  },
  {
   "cell_type": "code",
   "execution_count": null,
   "metadata": {},
   "outputs": [],
   "source": [
    "import matplotlib.pyplot as plt\n",
    "import seaborn as sns\n",
    "import pandas as pd\n",
    "\n",
    "# Simpan hasil akurasi model\n",
    "model_scores = {\n",
    "    \"Random Forest\": accuracy_rf,\n",
    "    \"Extra Trees\": accuracy_et,\n",
    "    \"Gradient Boosting\": accuracy_gb,\n",
    "    \"AdaBoost\": accuracy_ab,\n",
    "    \"XGBoost\": accuracy_xgb,\n",
    "    \"LightGBM\": accuracy_lgbm,\n",
    "    \"HistGradientBoosting\": accuracy_hgb,\n",
    "    \"MLP Classifier\": accuracy_mlp,\n",
    "    \"KNN\": accuracy_knn,\n",
    "    \"Voting Classifier\": accuracy_vot,\n",
    "    \"Stacking Classifier\": accuracy_stacking\n",
    "}\n",
    "\n",
    "# Konversi ke DataFrame\n",
    "df_scores = pd.DataFrame(list(model_scores.items()), columns=[\"Model\", \"Accuracy\"])\n",
    "\n",
    "# Urutkan berdasarkan akurasi\n",
    "df_scores = df_scores.sort_values(by=\"Accuracy\", ascending=False)\n",
    "\n",
    "# Visualisasi dalam Bar Plot\n",
    "plt.figure(figsize=(12, 6))\n",
    "sns.barplot(x=\"Accuracy\", y=\"Model\", data=df_scores, palette=\"viridis\")\n",
    "\n",
    "# Tambahkan label nilai akurasi di ujung bar\n",
    "for index, value in enumerate(df_scores[\"Accuracy\"]):\n",
    "    plt.text(value + 0.01, index, f\"{value:.2%}\", va=\"center\", fontsize=12)\n",
    "\n",
    "plt.xlabel(\"Accuracy (%)\")\n",
    "plt.ylabel(\"Model\")\n",
    "plt.title(\"Model Performance Comparison\")\n",
    "plt.xlim(0, 1)  # Skala dari 0 hingga 100%\n",
    "plt.grid(axis=\"x\", linestyle=\"--\", alpha=0.6)\n",
    "plt.show()\n"
   ]
  },
  {
   "cell_type": "markdown",
   "metadata": {},
   "source": [
    "# Testing Model"
   ]
  },
  {
   "cell_type": "code",
   "execution_count": 35,
   "metadata": {},
   "outputs": [
    {
     "data": {
      "text/html": [
       "<div>\n",
       "<style scoped>\n",
       "    .dataframe tbody tr th:only-of-type {\n",
       "        vertical-align: middle;\n",
       "    }\n",
       "\n",
       "    .dataframe tbody tr th {\n",
       "        vertical-align: top;\n",
       "    }\n",
       "\n",
       "    .dataframe thead th {\n",
       "        text-align: right;\n",
       "    }\n",
       "</style>\n",
       "<table border=\"1\" class=\"dataframe\">\n",
       "  <thead>\n",
       "    <tr style=\"text-align: right;\">\n",
       "      <th></th>\n",
       "      <th>gender</th>\n",
       "      <th>age_years</th>\n",
       "      <th>bmi</th>\n",
       "      <th>tekanan_denyut_nadi</th>\n",
       "      <th>tekanan_arteri_ratarata</th>\n",
       "      <th>sys_dsys_ratio</th>\n",
       "      <th>cholesterol</th>\n",
       "      <th>gluc</th>\n",
       "      <th>smoke</th>\n",
       "      <th>alco</th>\n",
       "      <th>active</th>\n",
       "    </tr>\n",
       "  </thead>\n",
       "  <tbody>\n",
       "    <tr>\n",
       "      <th>0</th>\n",
       "      <td>1</td>\n",
       "      <td>50</td>\n",
       "      <td>21.970000</td>\n",
       "      <td>30</td>\n",
       "      <td>90.00</td>\n",
       "      <td>1.38</td>\n",
       "      <td>1</td>\n",
       "      <td>1</td>\n",
       "      <td>0</td>\n",
       "      <td>0</td>\n",
       "      <td>1</td>\n",
       "    </tr>\n",
       "    <tr>\n",
       "      <th>1</th>\n",
       "      <td>0</td>\n",
       "      <td>55</td>\n",
       "      <td>34.930000</td>\n",
       "      <td>50</td>\n",
       "      <td>106.67</td>\n",
       "      <td>1.56</td>\n",
       "      <td>3</td>\n",
       "      <td>1</td>\n",
       "      <td>0</td>\n",
       "      <td>0</td>\n",
       "      <td>1</td>\n",
       "    </tr>\n",
       "    <tr>\n",
       "      <th>2</th>\n",
       "      <td>0</td>\n",
       "      <td>51</td>\n",
       "      <td>23.510000</td>\n",
       "      <td>60</td>\n",
       "      <td>90.00</td>\n",
       "      <td>1.86</td>\n",
       "      <td>3</td>\n",
       "      <td>1</td>\n",
       "      <td>0</td>\n",
       "      <td>0</td>\n",
       "      <td>0</td>\n",
       "    </tr>\n",
       "    <tr>\n",
       "      <th>3</th>\n",
       "      <td>1</td>\n",
       "      <td>48</td>\n",
       "      <td>28.710000</td>\n",
       "      <td>50</td>\n",
       "      <td>116.67</td>\n",
       "      <td>1.50</td>\n",
       "      <td>1</td>\n",
       "      <td>1</td>\n",
       "      <td>0</td>\n",
       "      <td>0</td>\n",
       "      <td>1</td>\n",
       "    </tr>\n",
       "    <tr>\n",
       "      <th>4</th>\n",
       "      <td>0</td>\n",
       "      <td>47</td>\n",
       "      <td>23.010000</td>\n",
       "      <td>40</td>\n",
       "      <td>73.33</td>\n",
       "      <td>1.67</td>\n",
       "      <td>1</td>\n",
       "      <td>1</td>\n",
       "      <td>0</td>\n",
       "      <td>0</td>\n",
       "      <td>0</td>\n",
       "    </tr>\n",
       "    <tr>\n",
       "      <th>...</th>\n",
       "      <td>...</td>\n",
       "      <td>...</td>\n",
       "      <td>...</td>\n",
       "      <td>...</td>\n",
       "      <td>...</td>\n",
       "      <td>...</td>\n",
       "      <td>...</td>\n",
       "      <td>...</td>\n",
       "      <td>...</td>\n",
       "      <td>...</td>\n",
       "      <td>...</td>\n",
       "    </tr>\n",
       "    <tr>\n",
       "      <th>1694938</th>\n",
       "      <td>1</td>\n",
       "      <td>59</td>\n",
       "      <td>29.836861</td>\n",
       "      <td>40</td>\n",
       "      <td>93.33</td>\n",
       "      <td>1.50</td>\n",
       "      <td>2</td>\n",
       "      <td>1</td>\n",
       "      <td>1</td>\n",
       "      <td>1</td>\n",
       "      <td>0</td>\n",
       "    </tr>\n",
       "    <tr>\n",
       "      <th>1694939</th>\n",
       "      <td>1</td>\n",
       "      <td>59</td>\n",
       "      <td>29.836745</td>\n",
       "      <td>40</td>\n",
       "      <td>93.33</td>\n",
       "      <td>1.50</td>\n",
       "      <td>2</td>\n",
       "      <td>1</td>\n",
       "      <td>1</td>\n",
       "      <td>1</td>\n",
       "      <td>0</td>\n",
       "    </tr>\n",
       "    <tr>\n",
       "      <th>1694940</th>\n",
       "      <td>1</td>\n",
       "      <td>59</td>\n",
       "      <td>29.837008</td>\n",
       "      <td>40</td>\n",
       "      <td>93.33</td>\n",
       "      <td>1.50</td>\n",
       "      <td>2</td>\n",
       "      <td>1</td>\n",
       "      <td>1</td>\n",
       "      <td>1</td>\n",
       "      <td>0</td>\n",
       "    </tr>\n",
       "    <tr>\n",
       "      <th>1694941</th>\n",
       "      <td>1</td>\n",
       "      <td>59</td>\n",
       "      <td>29.836915</td>\n",
       "      <td>40</td>\n",
       "      <td>93.33</td>\n",
       "      <td>1.50</td>\n",
       "      <td>2</td>\n",
       "      <td>1</td>\n",
       "      <td>1</td>\n",
       "      <td>1</td>\n",
       "      <td>0</td>\n",
       "    </tr>\n",
       "    <tr>\n",
       "      <th>1694942</th>\n",
       "      <td>1</td>\n",
       "      <td>59</td>\n",
       "      <td>29.837609</td>\n",
       "      <td>40</td>\n",
       "      <td>93.33</td>\n",
       "      <td>1.50</td>\n",
       "      <td>2</td>\n",
       "      <td>1</td>\n",
       "      <td>1</td>\n",
       "      <td>1</td>\n",
       "      <td>0</td>\n",
       "    </tr>\n",
       "  </tbody>\n",
       "</table>\n",
       "<p>1694943 rows × 11 columns</p>\n",
       "</div>"
      ],
      "text/plain": [
       "         gender  age_years        bmi  tekanan_denyut_nadi  \\\n",
       "0             1         50  21.970000                   30   \n",
       "1             0         55  34.930000                   50   \n",
       "2             0         51  23.510000                   60   \n",
       "3             1         48  28.710000                   50   \n",
       "4             0         47  23.010000                   40   \n",
       "...         ...        ...        ...                  ...   \n",
       "1694938       1         59  29.836861                   40   \n",
       "1694939       1         59  29.836745                   40   \n",
       "1694940       1         59  29.837008                   40   \n",
       "1694941       1         59  29.836915                   40   \n",
       "1694942       1         59  29.837609                   40   \n",
       "\n",
       "         tekanan_arteri_ratarata  sys_dsys_ratio  cholesterol  gluc  smoke  \\\n",
       "0                          90.00            1.38            1     1      0   \n",
       "1                         106.67            1.56            3     1      0   \n",
       "2                          90.00            1.86            3     1      0   \n",
       "3                         116.67            1.50            1     1      0   \n",
       "4                          73.33            1.67            1     1      0   \n",
       "...                          ...             ...          ...   ...    ...   \n",
       "1694938                    93.33            1.50            2     1      1   \n",
       "1694939                    93.33            1.50            2     1      1   \n",
       "1694940                    93.33            1.50            2     1      1   \n",
       "1694941                    93.33            1.50            2     1      1   \n",
       "1694942                    93.33            1.50            2     1      1   \n",
       "\n",
       "         alco  active  \n",
       "0           0       1  \n",
       "1           0       1  \n",
       "2           0       0  \n",
       "3           0       1  \n",
       "4           0       0  \n",
       "...       ...     ...  \n",
       "1694938     1       0  \n",
       "1694939     1       0  \n",
       "1694940     1       0  \n",
       "1694941     1       0  \n",
       "1694942     1       0  \n",
       "\n",
       "[1694943 rows x 11 columns]"
      ]
     },
     "execution_count": 35,
     "metadata": {},
     "output_type": "execute_result"
    }
   ],
   "source": [
    "features"
   ]
  },
  {
   "cell_type": "code",
   "execution_count": 36,
   "metadata": {},
   "outputs": [
    {
     "data": {
      "text/html": [
       "<div>\n",
       "<style scoped>\n",
       "    .dataframe tbody tr th:only-of-type {\n",
       "        vertical-align: middle;\n",
       "    }\n",
       "\n",
       "    .dataframe tbody tr th {\n",
       "        vertical-align: top;\n",
       "    }\n",
       "\n",
       "    .dataframe thead th {\n",
       "        text-align: right;\n",
       "    }\n",
       "</style>\n",
       "<table border=\"1\" class=\"dataframe\">\n",
       "  <thead>\n",
       "    <tr style=\"text-align: right;\">\n",
       "      <th></th>\n",
       "      <th>gender</th>\n",
       "      <th>age_years</th>\n",
       "      <th>height</th>\n",
       "      <th>weight</th>\n",
       "      <th>ap_hi</th>\n",
       "      <th>ap_lo</th>\n",
       "      <th>cardio</th>\n",
       "      <th>bmi</th>\n",
       "      <th>tekanan_denyut_nadi</th>\n",
       "      <th>tekanan_arteri_ratarata</th>\n",
       "      <th>sys_dsys_ratio</th>\n",
       "      <th>cholesterol</th>\n",
       "      <th>gluc</th>\n",
       "      <th>smoke</th>\n",
       "      <th>alco</th>\n",
       "      <th>active</th>\n",
       "    </tr>\n",
       "  </thead>\n",
       "  <tbody>\n",
       "    <tr>\n",
       "      <th>0</th>\n",
       "      <td>1</td>\n",
       "      <td>50</td>\n",
       "      <td>168</td>\n",
       "      <td>62</td>\n",
       "      <td>110</td>\n",
       "      <td>80</td>\n",
       "      <td>0</td>\n",
       "      <td>21.97</td>\n",
       "      <td>30</td>\n",
       "      <td>90.00</td>\n",
       "      <td>1.38</td>\n",
       "      <td>1</td>\n",
       "      <td>1</td>\n",
       "      <td>0</td>\n",
       "      <td>0</td>\n",
       "      <td>1</td>\n",
       "    </tr>\n",
       "    <tr>\n",
       "      <th>1</th>\n",
       "      <td>0</td>\n",
       "      <td>55</td>\n",
       "      <td>156</td>\n",
       "      <td>85</td>\n",
       "      <td>140</td>\n",
       "      <td>90</td>\n",
       "      <td>1</td>\n",
       "      <td>34.93</td>\n",
       "      <td>50</td>\n",
       "      <td>106.67</td>\n",
       "      <td>1.56</td>\n",
       "      <td>3</td>\n",
       "      <td>1</td>\n",
       "      <td>0</td>\n",
       "      <td>0</td>\n",
       "      <td>1</td>\n",
       "    </tr>\n",
       "    <tr>\n",
       "      <th>2</th>\n",
       "      <td>0</td>\n",
       "      <td>51</td>\n",
       "      <td>165</td>\n",
       "      <td>64</td>\n",
       "      <td>130</td>\n",
       "      <td>70</td>\n",
       "      <td>1</td>\n",
       "      <td>23.51</td>\n",
       "      <td>60</td>\n",
       "      <td>90.00</td>\n",
       "      <td>1.86</td>\n",
       "      <td>3</td>\n",
       "      <td>1</td>\n",
       "      <td>0</td>\n",
       "      <td>0</td>\n",
       "      <td>0</td>\n",
       "    </tr>\n",
       "    <tr>\n",
       "      <th>3</th>\n",
       "      <td>1</td>\n",
       "      <td>48</td>\n",
       "      <td>169</td>\n",
       "      <td>82</td>\n",
       "      <td>150</td>\n",
       "      <td>100</td>\n",
       "      <td>1</td>\n",
       "      <td>28.71</td>\n",
       "      <td>50</td>\n",
       "      <td>116.67</td>\n",
       "      <td>1.50</td>\n",
       "      <td>1</td>\n",
       "      <td>1</td>\n",
       "      <td>0</td>\n",
       "      <td>0</td>\n",
       "      <td>1</td>\n",
       "    </tr>\n",
       "    <tr>\n",
       "      <th>4</th>\n",
       "      <td>0</td>\n",
       "      <td>47</td>\n",
       "      <td>156</td>\n",
       "      <td>56</td>\n",
       "      <td>100</td>\n",
       "      <td>60</td>\n",
       "      <td>0</td>\n",
       "      <td>23.01</td>\n",
       "      <td>40</td>\n",
       "      <td>73.33</td>\n",
       "      <td>1.67</td>\n",
       "      <td>1</td>\n",
       "      <td>1</td>\n",
       "      <td>0</td>\n",
       "      <td>0</td>\n",
       "      <td>0</td>\n",
       "    </tr>\n",
       "  </tbody>\n",
       "</table>\n",
       "</div>"
      ],
      "text/plain": [
       "   gender  age_years  height  weight  ap_hi  ap_lo  cardio    bmi  \\\n",
       "0       1         50     168      62    110     80       0  21.97   \n",
       "1       0         55     156      85    140     90       1  34.93   \n",
       "2       0         51     165      64    130     70       1  23.51   \n",
       "3       1         48     169      82    150    100       1  28.71   \n",
       "4       0         47     156      56    100     60       0  23.01   \n",
       "\n",
       "   tekanan_denyut_nadi  tekanan_arteri_ratarata  sys_dsys_ratio  cholesterol  \\\n",
       "0                   30                    90.00            1.38            1   \n",
       "1                   50                   106.67            1.56            3   \n",
       "2                   60                    90.00            1.86            3   \n",
       "3                   50                   116.67            1.50            1   \n",
       "4                   40                    73.33            1.67            1   \n",
       "\n",
       "   gluc  smoke  alco  active  \n",
       "0     1      0     0       1  \n",
       "1     1      0     0       1  \n",
       "2     1      0     0       0  \n",
       "3     1      0     0       1  \n",
       "4     1      0     0       0  "
      ]
     },
     "execution_count": 36,
     "metadata": {},
     "output_type": "execute_result"
    }
   ],
   "source": [
    "new_data.head()"
   ]
  },
  {
   "cell_type": "code",
   "execution_count": null,
   "metadata": {},
   "outputs": [
    {
     "name": "stderr",
     "output_type": "stream",
     "text": [
      "c:\\Users\\Imam Bari Setiawan\\AppData\\Local\\Programs\\Python\\Python310\\lib\\site-packages\\sklearn\\base.py:376: InconsistentVersionWarning: Trying to unpickle estimator MinMaxScaler from version 1.6.1 when using version 1.4.2. This might lead to breaking code or invalid results. Use at your own risk. For more info please refer to:\n",
      "https://scikit-learn.org/stable/model_persistence.html#security-maintainability-limitations\n",
      "  warnings.warn(\n"
     ]
    }
   ],
   "source": [
    "import joblib\n",
    "import pandas as pd\n",
    "import numpy as np\n",
    "from scipy.stats import boxcox\n",
    "\n",
    "# Load scaler & model\n",
    "scaler = joblib.load(\"scaler.pkl\")\n",
    "rf_clf = joblib.load(\"stacking_model.pkl\")\n",
    "expected_columns = x_train.columns.tolist()\n",
    "print(\"Kolom yang diharapkan:\", expected_columns)\n"
   ]
  },
  {
   "cell_type": "code",
   "execution_count": null,
   "metadata": {},
   "outputs": [
    {
     "name": "stdout",
     "output_type": "stream",
     "text": [
      "\n",
      "✅ Hasil Prediksi: 🚨 Berisiko\n",
      "🔄 Usia setelah inverse Box-Cox: 55.00 tahun\n"
     ]
    }
   ],
   "source": [
    "# Fungsi untuk invers transformasi Box-Cox\n",
    "def inverse_boxcox(age_box, lmbda=0.5):\n",
    "    return (age_box * lmbda + 1) ** (1 / lmbda)\n",
    "\n",
    "# Input user\n",
    "gender = int(input(\"Jenis kelamin (0=Wanita, 1=Pria): \"))\n",
    "age_years = float(input(\"Usia: \"))\n",
    "bmi = float(input(\"Body Mass Index: \"))\n",
    "smoke = int(input(\"Merokok? (0=Tidak, 1=Ya): \"))\n",
    "alco = int(input(\"Konsumsi alkohol? (0=Tidak, 1=Ya): \"))\n",
    "active = int(input(\"Aktif secara fisik? (0=Tidak, 1=Ya): \"))\n",
    "tekanan_denyut_nadi = float(input(\"Tekanan denyut nadi: \"))\n",
    "tekanan_arteri_ratarata = float(input(\"Tekanan arteri rata-rata: \"))\n",
    "sys_dsys_ratio = float(input(\"Rasio sistolik/diastolik: \"))\n",
    "\n",
    "cholesterol = int(input(\"Kolesterol (1=normal, 2=above normal, 3=well above normal): \"))\n",
    "gluc = int(input(\"Glukosa (1=normal, 2=above normal, 3=well above normal): \"))\n",
    "\n",
    "# Transformasi Box-Cox untuk usia (jika > 0)\n",
    "age_box = boxcox(age_years, lmbda=0.5) if age_years > 0 else age_years\n",
    "\n",
    "# Buat DataFrame sesuai dengan fitur yang digunakan saat training\n",
    "new_data = pd.DataFrame([[\n",
    "    gender, age_box, bmi, tekanan_denyut_nadi, tekanan_arteri_ratarata, sys_dsys_ratio,\n",
    "    smoke, alco, active, cholesterol, gluc\n",
    "]], columns=[\n",
    "    'gender', 'age_box', 'bmi', 'tekanan_denyut_nadi', 'tekanan_arteri_ratarata', 'sys_dsys_ratio',\n",
    "    'smoke', 'alco', 'active', 'cholesterol', 'gluc'\n",
    "])\n",
    "\n",
    "# Sesuaikan fitur dengan model\n",
    "new_data = new_data.reindex(columns=expected_columns, fill_value=0).astype(float)\n",
    "\n",
    "# Transformasi dengan Scaler\n",
    "try:\n",
    "    new_data_scaled = scaler.transform(new_data)\n",
    "    rf_pred = rf_clf.predict(new_data_scaled)\n",
    "    print(\"\\nHasil Prediksi:\", \"Berisiko\" if rf_pred[0] == 1 else \"Tidak Berisiko\")\n",
    "    \n",
    "    # Mengembalikan usia ke nilai aslinya\n",
    "    original_age = inverse_boxcox(age_box)\n",
    "    print(f\"Usia setelah inverse Box-Cox: {original_age:.2f} tahun\")\n",
    "except Exception as e:\n",
    "    print(\"❌ ERROR:\", e)\n"
   ]
  },
  {
   "cell_type": "code",
   "execution_count": 40,
   "metadata": {},
   "outputs": [
    {
     "name": "stdout",
     "output_type": "stream",
     "text": [
      "Fitur yang diharapkan oleh scaler: ['gender' 'age_years' 'bmi' 'tekanan_denyut_nadi'\n",
      " 'tekanan_arteri_ratarata' 'sys_dsys_ratio' 'cholesterol' 'gluc' 'smoke'\n",
      " 'alco' 'active']\n",
      "Fitur yang ada di new_data: ['gender', 'age_years', 'bmi', 'tekanan_denyut_nadi', 'tekanan_arteri_ratarata', 'sys_dsys_ratio', 'cholesterol', 'gluc', 'smoke', 'alco', 'active']\n"
     ]
    }
   ],
   "source": [
    "print(\"Fitur yang diharapkan oleh scaler:\", scaler.feature_names_in_)\n",
    "print(\"Fitur yang ada di new_data:\", new_data.columns.tolist())\n"
   ]
  },
  {
   "cell_type": "code",
   "execution_count": 41,
   "metadata": {},
   "outputs": [
    {
     "name": "stdout",
     "output_type": "stream",
     "text": [
      "Probabilitas: [[0.0682593 0.9317407]]\n"
     ]
    }
   ],
   "source": [
    "rf_pred_proba = rf_clf.predict_proba(new_data_scaled)\n",
    "print(\"Probabilitas:\", rf_pred_proba)\n"
   ]
  },
  {
   "cell_type": "markdown",
   "metadata": {},
   "source": [
    "# Save Model"
   ]
  },
  {
   "cell_type": "code",
   "execution_count": 37,
   "metadata": {},
   "outputs": [],
   "source": [
    "import joblib"
   ]
  },
  {
   "cell_type": "code",
   "execution_count": null,
   "metadata": {},
   "outputs": [
    {
     "name": "stderr",
     "output_type": "stream",
     "text": [
      "WARNING:absl:You are saving your model as an HDF5 file via `model.save()` or `keras.saving.save_model(model)`. This file format is considered legacy. We recommend using instead the native Keras format, e.g. `model.save('my_model.keras')` or `keras.saving.save_model(model, 'my_model.keras')`. \n"
     ]
    }
   ],
   "source": [
    "import joblib\n",
    "import tensorflow as tf\n",
    "\n",
    "# Simpan Model Base\n",
    "joblib.dump(xgb_clf, \"xgb_model.pkl\")\n",
    "joblib.dump(rf_clf, \"rf_model.pkl\")\n",
    "joblib.dump(meta_clf, \"meta_model.pkl\")\n",
    "\n",
    "# Simpan Model MLP\n",
    "mlp_clf.model_.save(\"mlp_model.h5\")"
   ]
  },
  {
   "cell_type": "code",
   "execution_count": null,
   "metadata": {},
   "outputs": [
    {
     "data": {
      "text/plain": [
       "['scaler.pkl']"
      ]
     },
     "execution_count": 49,
     "metadata": {},
     "output_type": "execute_result"
    }
   ],
   "source": [
    "# Simpan Scaler\n",
    "import joblib\n",
    "joblib.dump(scaler, \"scaler.pkl\")"
   ]
  },
  {
   "cell_type": "code",
   "execution_count": 50,
   "metadata": {},
   "outputs": [
    {
     "data": {
      "text/plain": [
       "['random_forest_model.pkl']"
      ]
     },
     "execution_count": 50,
     "metadata": {},
     "output_type": "execute_result"
    }
   ],
   "source": [
    "joblib.dump(model_rf, \"random_forest_model.pkl\")"
   ]
  },
  {
   "cell_type": "code",
   "execution_count": 51,
   "metadata": {},
   "outputs": [
    {
     "data": {
      "text/plain": [
       "['extra_trees_model.pkl']"
      ]
     },
     "execution_count": 51,
     "metadata": {},
     "output_type": "execute_result"
    }
   ],
   "source": [
    "# Menyimpan model yang sudah dilatih\n",
    "joblib.dump(model_et, \"extra_trees_model.pkl\")"
   ]
  },
  {
   "cell_type": "code",
   "execution_count": 52,
   "metadata": {},
   "outputs": [
    {
     "data": {
      "text/plain": [
       "['gradient_boosting_model.pkl']"
      ]
     },
     "execution_count": 52,
     "metadata": {},
     "output_type": "execute_result"
    }
   ],
   "source": [
    "joblib.dump(model_gb, \"gradient_boosting_model.pkl\")"
   ]
  },
  {
   "cell_type": "code",
   "execution_count": 53,
   "metadata": {},
   "outputs": [
    {
     "data": {
      "text/plain": [
       "['adaboost_model.pkl']"
      ]
     },
     "execution_count": 53,
     "metadata": {},
     "output_type": "execute_result"
    }
   ],
   "source": [
    "joblib.dump(model_ab, \"adaboost_model.pkl\")"
   ]
  },
  {
   "cell_type": "code",
   "execution_count": 54,
   "metadata": {},
   "outputs": [
    {
     "data": {
      "text/plain": [
       "['xgboost_model.pkl']"
      ]
     },
     "execution_count": 54,
     "metadata": {},
     "output_type": "execute_result"
    }
   ],
   "source": [
    "joblib.dump(model_xgb, \"xgboost_model.pkl\")"
   ]
  },
  {
   "cell_type": "code",
   "execution_count": 55,
   "metadata": {},
   "outputs": [
    {
     "data": {
      "text/plain": [
       "['lgbm_model.pkl']"
      ]
     },
     "execution_count": 55,
     "metadata": {},
     "output_type": "execute_result"
    }
   ],
   "source": [
    "joblib.dump(model_lgbm, \"lgbm_model.pkl\")"
   ]
  },
  {
   "cell_type": "code",
   "execution_count": 56,
   "metadata": {},
   "outputs": [
    {
     "data": {
      "text/plain": [
       "['hgb_model.pkl']"
      ]
     },
     "execution_count": 56,
     "metadata": {},
     "output_type": "execute_result"
    }
   ],
   "source": [
    "joblib.dump(model_hgb, \"hgb_model.pkl\")"
   ]
  },
  {
   "cell_type": "code",
   "execution_count": 60,
   "metadata": {},
   "outputs": [
    {
     "data": {
      "text/plain": [
       "['mlp_model.pkl']"
      ]
     },
     "execution_count": 60,
     "metadata": {},
     "output_type": "execute_result"
    }
   ],
   "source": [
    "joblib.dump(model_mlp, \"mlp_model.pkl\")"
   ]
  },
  {
   "cell_type": "code",
   "execution_count": 57,
   "metadata": {},
   "outputs": [
    {
     "data": {
      "text/plain": [
       "['voting_model.pkl']"
      ]
     },
     "execution_count": 57,
     "metadata": {},
     "output_type": "execute_result"
    }
   ],
   "source": [
    "joblib.dump(model_vot, \"voting_model.pkl\")"
   ]
  },
  {
   "cell_type": "code",
   "execution_count": 50,
   "metadata": {},
   "outputs": [],
   "source": [
    "# Tambahkan fungsi ke namespace global\n",
    "globals()['build_mlp'] = build_mlp"
   ]
  },
  {
   "cell_type": "code",
   "execution_count": 38,
   "metadata": {},
   "outputs": [
    {
     "data": {
      "text/plain": [
       "['stacking_model.pkl']"
      ]
     },
     "execution_count": 38,
     "metadata": {},
     "output_type": "execute_result"
    }
   ],
   "source": [
    "joblib.dump(stacking_model, \"stacking_model.pkl\")"
   ]
  },
  {
   "cell_type": "code",
   "execution_count": 39,
   "metadata": {},
   "outputs": [
    {
     "data": {
      "text/plain": [
       "['stack_model.pkl']"
      ]
     },
     "execution_count": 39,
     "metadata": {},
     "output_type": "execute_result"
    }
   ],
   "source": [
    "joblib.dump(stack_model, \"stack_model.pkl\")"
   ]
  },
  {
   "cell_type": "code",
   "execution_count": 55,
   "metadata": {},
   "outputs": [
    {
     "data": {
      "text/plain": [
       "['stacking3_model.pkl']"
      ]
     },
     "execution_count": 55,
     "metadata": {},
     "output_type": "execute_result"
    }
   ],
   "source": [
    "joblib.dump(stacked2_model, \"stacking3_model.pkl\")"
   ]
  },
  {
   "cell_type": "code",
   "execution_count": 50,
   "metadata": {},
   "outputs": [
    {
     "data": {
      "text/plain": [
       "['deepLearn_model.pkl']"
      ]
     },
     "execution_count": 50,
     "metadata": {},
     "output_type": "execute_result"
    }
   ],
   "source": [
    "joblib.dump(model, \"deepLearn_model.pkl\")"
   ]
  }
 ],
 "metadata": {
  "colab": {
   "provenance": []
  },
  "kernelspec": {
   "display_name": "Python 3",
   "language": "python",
   "name": "python3"
  },
  "language_info": {
   "codemirror_mode": {
    "name": "ipython",
    "version": 3
   },
   "file_extension": ".py",
   "mimetype": "text/x-python",
   "name": "python",
   "nbconvert_exporter": "python",
   "pygments_lexer": "ipython3",
   "version": "3.10.11"
  }
 },
 "nbformat": 4,
 "nbformat_minor": 0
}
